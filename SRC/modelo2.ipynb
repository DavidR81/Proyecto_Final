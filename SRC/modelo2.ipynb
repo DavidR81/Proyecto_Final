{
 "cells": [
  {
   "cell_type": "markdown",
   "metadata": {},
   "source": [
    "## Clasificador de terrenos"
   ]
  },
  {
   "cell_type": "code",
   "execution_count": 69,
   "metadata": {},
   "outputs": [],
   "source": [
    "import os\n",
    "import numpy as np\n",
    "from PIL import Image\n",
    "from sklearn.model_selection import train_test_split\n",
    "from keras.utils import to_categorical\n",
    "from keras.models import Sequential\n",
    "from keras.layers import Dense, Conv2D, Deconvolution2D, MaxPooling2D, Flatten\n",
    "from keras import layers as L"
   ]
  },
  {
   "cell_type": "code",
   "execution_count": 70,
   "metadata": {},
   "outputs": [],
   "source": [
    "path = './Euro_Sat/'"
   ]
  },
  {
   "cell_type": "code",
   "execution_count": 71,
   "metadata": {},
   "outputs": [],
   "source": [
    "dic = {}\n",
    "entrada = []\n",
    "salida = []\n",
    "i = 0\n",
    "\n",
    "for ele in os.listdir(path):\n",
    "    if os.path.isdir(path+ele):\n",
    "        for file in os.listdir(path+ele):\n",
    "            im = Image.open(os.path.join(path,ele,file))\n",
    "            im_array = np.array(im)\n",
    "            entrada.append(im_array)\n",
    "            salida.append(i)\n",
    "        dic[i] = ele\n",
    "        i += 1"
   ]
  },
  {
   "cell_type": "code",
   "execution_count": 72,
   "metadata": {},
   "outputs": [],
   "source": [
    "clases_salida = to_categorical(salida)"
   ]
  },
  {
   "cell_type": "code",
   "execution_count": 73,
   "metadata": {},
   "outputs": [],
   "source": [
    "entrada = np.array(entrada)\n",
    "entrada = entrada/255"
   ]
  },
  {
   "cell_type": "code",
   "execution_count": 74,
   "metadata": {},
   "outputs": [],
   "source": [
    "x_train, x_test, y_train, y_test = train_test_split(entrada, clases_salida, test_size=0.19, shuffle=True)"
   ]
  },
  {
   "cell_type": "code",
   "execution_count": 75,
   "metadata": {},
   "outputs": [
    {
     "name": "stdout",
     "output_type": "stream",
     "text": [
      "Model: \"sequential_13\"\n",
      "_________________________________________________________________\n",
      "Layer (type)                 Output Shape              Param #   \n",
      "=================================================================\n",
      "conv2d_67 (Conv2D)           (None, 62, 62, 16)        448       \n",
      "_________________________________________________________________\n",
      "max_pooling2d_34 (MaxPooling (None, 31, 31, 16)        0         \n",
      "_________________________________________________________________\n",
      "conv2d_68 (Conv2D)           (None, 29, 29, 32)        4640      \n",
      "_________________________________________________________________\n",
      "max_pooling2d_35 (MaxPooling (None, 14, 14, 32)        0         \n",
      "_________________________________________________________________\n",
      "conv2d_69 (Conv2D)           (None, 12, 12, 64)        18496     \n",
      "_________________________________________________________________\n",
      "flatten_12 (Flatten)         (None, 9216)              0         \n",
      "_________________________________________________________________\n",
      "dense_26 (Dense)             (None, 51)                470067    \n",
      "_________________________________________________________________\n",
      "dense_27 (Dense)             (None, 10)                520       \n",
      "=================================================================\n",
      "Total params: 494,171\n",
      "Trainable params: 494,171\n",
      "Non-trainable params: 0\n",
      "_________________________________________________________________\n"
     ]
    }
   ],
   "source": [
    "in_shape = x_train[0,:,:,:].shape\n",
    "\n",
    "model = Sequential()\n",
    "\n",
    "model.add(Conv2D(16, kernel_size=3, activation='relu', input_shape=in_shape))\n",
    "model.add(MaxPooling2D(pool_size=(2,2)))\n",
    "model.add(Conv2D(32, kernel_size=3, activation='relu'))\n",
    "model.add(MaxPooling2D(pool_size=(2,2)))\n",
    "model.add(Conv2D(64, kernel_size=3, activation='relu'))\n",
    "model.add(Flatten())\n",
    "model.add(Dense(51))\n",
    "model.add(Dense(len(dic), activation='softmax'))\n",
    "model.summary()"
   ]
  },
  {
   "cell_type": "code",
   "execution_count": 76,
   "metadata": {},
   "outputs": [],
   "source": [
    "model.compile(optimizer='adam', loss='categorical_crossentropy', metrics=['accuracy'])"
   ]
  },
  {
   "cell_type": "code",
   "execution_count": 77,
   "metadata": {},
   "outputs": [
    {
     "name": "stdout",
     "output_type": "stream",
     "text": [
      "Train on 22140 samples, validate on 4860 samples\n",
      "Epoch 1/15\n",
      "22140/22140 [==============================] - 61s 3ms/step - loss: 1.1897 - accuracy: 0.5583 - val_loss: 1.0543 - val_accuracy: 0.6146\n",
      "Epoch 2/15\n",
      "22140/22140 [==============================] - 59s 3ms/step - loss: 0.7692 - accuracy: 0.7246 - val_loss: 0.7001 - val_accuracy: 0.7539\n",
      "Epoch 3/15\n",
      "22140/22140 [==============================] - 53s 2ms/step - loss: 0.6484 - accuracy: 0.7668 - val_loss: 0.8785 - val_accuracy: 0.6977\n",
      "Epoch 4/15\n",
      "22140/22140 [==============================] - 52s 2ms/step - loss: 0.5804 - accuracy: 0.7926 - val_loss: 0.5800 - val_accuracy: 0.7926\n",
      "Epoch 5/15\n",
      "22140/22140 [==============================] - 52s 2ms/step - loss: 0.5329 - accuracy: 0.8107 - val_loss: 0.5659 - val_accuracy: 0.8004\n",
      "Epoch 6/15\n",
      "22140/22140 [==============================] - 53s 2ms/step - loss: 0.4663 - accuracy: 0.8358 - val_loss: 0.5354 - val_accuracy: 0.8128\n",
      "Epoch 7/15\n",
      "22140/22140 [==============================] - 53s 2ms/step - loss: 0.4367 - accuracy: 0.8491 - val_loss: 0.4935 - val_accuracy: 0.8261\n",
      "Epoch 8/15\n",
      "22140/22140 [==============================] - 51s 2ms/step - loss: 0.3933 - accuracy: 0.8611 - val_loss: 0.6446 - val_accuracy: 0.7819\n",
      "Epoch 9/15\n",
      "22140/22140 [==============================] - 96s 4ms/step - loss: 0.3432 - accuracy: 0.8812 - val_loss: 0.5413 - val_accuracy: 0.8243\n",
      "Epoch 10/15\n",
      "22140/22140 [==============================] - 106s 5ms/step - loss: 0.3020 - accuracy: 0.8935 - val_loss: 0.5087 - val_accuracy: 0.8428\n",
      "Epoch 11/15\n",
      "22140/22140 [==============================] - 94s 4ms/step - loss: 0.2721 - accuracy: 0.9044 - val_loss: 0.5168 - val_accuracy: 0.8438\n",
      "Epoch 12/15\n",
      "22140/22140 [==============================] - 102s 5ms/step - loss: 0.2513 - accuracy: 0.9116 - val_loss: 0.5610 - val_accuracy: 0.8383\n",
      "Epoch 13/15\n",
      "22140/22140 [==============================] - 108s 5ms/step - loss: 0.2228 - accuracy: 0.9209 - val_loss: 0.6075 - val_accuracy: 0.8311\n",
      "Epoch 14/15\n",
      "22140/22140 [==============================] - 94s 4ms/step - loss: 0.2232 - accuracy: 0.9230 - val_loss: 0.6706 - val_accuracy: 0.8274\n",
      "Epoch 15/15\n",
      "22140/22140 [==============================] - 95s 4ms/step - loss: 0.1966 - accuracy: 0.9327 - val_loss: 0.7193 - val_accuracy: 0.8130\n"
     ]
    },
    {
     "data": {
      "text/plain": [
       "<keras.callbacks.callbacks.History at 0x27d989e2278>"
      ]
     },
     "execution_count": 77,
     "metadata": {},
     "output_type": "execute_result"
    }
   ],
   "source": [
    "model.fit(x_train, y_train, validation_data=(x_test, y_test), epochs=15)"
   ]
  },
  {
   "cell_type": "code",
   "execution_count": null,
   "metadata": {},
   "outputs": [],
   "source": []
  }
 ],
 "metadata": {
  "kernelspec": {
   "display_name": "Python 3",
   "language": "python",
   "name": "python3"
  },
  "language_info": {
   "codemirror_mode": {
    "name": "ipython",
    "version": 3
   },
   "file_extension": ".py",
   "mimetype": "text/x-python",
   "name": "python",
   "nbconvert_exporter": "python",
   "pygments_lexer": "ipython3",
   "version": "3.6.8"
  }
 },
 "nbformat": 4,
 "nbformat_minor": 2
}
