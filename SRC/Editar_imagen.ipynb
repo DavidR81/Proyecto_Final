{
 "cells": [
  {
   "cell_type": "code",
   "execution_count": 37,
   "metadata": {},
   "outputs": [
    {
     "data": {
      "image/png": "[encoded data removed]",
      "text/plain": [
       "<PIL.Image.Image image mode=RGB size=64x64 at 0x231A9AF6DD8>"
      ]
     },
     "execution_count": 37,
     "metadata": {},
     "output_type": "execute_result"
    }
   ],
   "source": [
    "from PIL import Image\n",
    "from keras.models import model_from_json\n",
    "from PIL import Image\n",
    "import numpy as np\n",
    "\n",
    "path = \"../Pruebas/c.jpg\"\n",
    "def cambioImagen(path):\n",
    "    im1 = Image.open(path)\n",
    "    width = 64\n",
    "    height = 64\n",
    "    im2 = im1.resize((width, height), Image.BILINEAR)\n",
    "    ext = \".jpg\"\n",
    "    im2.save(\"test\" + ext)\n",
    "    return im2\n",
    "\n",
    "cambioImagen(path)"
   ]
  },
  {
   "cell_type": "code",
   "execution_count": 38,
   "metadata": {},
   "outputs": [
    {
     "name": "stdout",
     "output_type": "stream",
     "text": [
      "Loaded model from disk\n"
     ]
    }
   ],
   "source": [
    "json_file = open('model1.json', 'r')\n",
    "loaded_model_json = json_file.read()\n",
    "json_file.close()\n",
    "loaded_model = model_from_json(loaded_model_json)\n",
    "# load weights into new model\n",
    "loaded_model.load_weights(\"model1.h5\")\n",
    "print(\"Loaded model from disk\")"
   ]
  },
  {
   "cell_type": "code",
   "execution_count": 39,
   "metadata": {},
   "outputs": [
    {
     "name": "stdout",
     "output_type": "stream",
     "text": [
      "El tipo de terreno es: Residential\n",
      "Es urbanizable\n"
     ]
    }
   ],
   "source": [
    "clases = {0 : 'AnnualCrop',\n",
    "          1 : 'Forest',\n",
    "          2 : 'HerbaceousVegetation',\n",
    "          3 : 'Highway',\n",
    "          4 : 'Industrial',\n",
    "          5 : 'Pasture',\n",
    "          6 : 'PermanentCrop',\n",
    "          7 : 'Residential',\n",
    "          8 : 'River',\n",
    "          9 : 'SeaLake'}\n",
    "\n",
    "\n",
    "img=np.array(Image.open('../SRC/test.jpg'))\n",
    "img=np.array([img/255])\n",
    "#print(np.max(img))\n",
    "\n",
    "pred=loaded_model.predict(img)\n",
    "pred=list(pred[0])\n",
    "resultado = pred.index(max(pred))\n",
    "resultado\n",
    "print('El tipo de terreno es:', clases[resultado])\n",
    "\n",
    "urbanizable = ['AnnualCrop', 'Residential', 'HerbaceousVegetation', 'Industrial', 'Residential']\n",
    "\n",
    "    \n",
    "if clases[resultado] in urbanizable:\n",
    "    print('Es urbanizable')\n",
    "else:\n",
    "    print('El terreno no es urbanizable')"
   ]
  },
  {
   "cell_type": "code",
   "execution_count": null,
   "metadata": {},
   "outputs": [],
   "source": []
  },
  {
   "cell_type": "code",
   "execution_count": null,
   "metadata": {},
   "outputs": [],
   "source": []
  }
 ],
 "metadata": {
  "kernelspec": {
   "display_name": "Python 3",
   "language": "python",
   "name": "python3"
  },
  "language_info": {
   "codemirror_mode": {
    "name": "ipython",
    "version": 3
   },
   "file_extension": ".py",
   "mimetype": "text/x-python",
   "name": "python",
   "nbconvert_exporter": "python",
   "pygments_lexer": "ipython3",
   "version": "3.6.8"
  }
 },
 "nbformat": 4,
 "nbformat_minor": 2
}
