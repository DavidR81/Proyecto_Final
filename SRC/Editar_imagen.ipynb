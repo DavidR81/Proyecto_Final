{
 "cells": [
  {
   "cell_type": "code",
   "execution_count": 9,
   "metadata": {},
   "outputs": [
    {
     "name": "stdout",
     "output_type": "stream",
     "text": [
      "<PIL.Image.Image image mode=RGB size=64x64 at 0x213FFA26668>\n"
     ]
    }
   ],
   "source": [
    "from PIL import Image\n",
    "\n",
    "path = \"sea.jpg\"\n",
    "def cambioImagen(path):\n",
    "    im1 = Image.open(path)\n",
    "    width = 64\n",
    "    height = 64\n",
    "    im2 = im1.resize((width, height), Image.BILINEAR)\n",
    "    ext = \".jpg\"\n",
    "    im2.save(\"test_sea\" + ext)\n",
    "    return print(im2)\n",
    "\n",
    "cambioImagen(path)"
   ]
  },
  {
   "cell_type": "code",
   "execution_count": null,
   "metadata": {},
   "outputs": [],
   "source": []
  },
  {
   "cell_type": "code",
   "execution_count": null,
   "metadata": {},
   "outputs": [],
   "source": []
  },
  {
   "cell_type": "code",
   "execution_count": null,
   "metadata": {},
   "outputs": [],
   "source": []
  }
 ],
 "metadata": {
  "kernelspec": {
   "display_name": "Python 3",
   "language": "python",
   "name": "python3"
  },
  "language_info": {
   "codemirror_mode": {
    "name": "ipython",
    "version": 3
   },
   "file_extension": ".py",
   "mimetype": "text/x-python",
   "name": "python",
   "nbconvert_exporter": "python",
   "pygments_lexer": "ipython3",
   "version": "3.6.8"
  }
 },
 "nbformat": 4,
 "nbformat_minor": 2
}
