{
 "cells": [
  {
   "cell_type": "code",
   "execution_count": 27,
   "metadata": {},
   "outputs": [
    {
     "ename": "ImportError",
     "evalue": "cannot import name 'Conv2D'",
     "output_type": "error",
     "traceback": [
      "\u001b[1;31m---------------------------------------------------------------------------\u001b[0m",
      "\u001b[1;31mImportError\u001b[0m                               Traceback (most recent call last)",
      "\u001b[1;32m<ipython-input-27-cd6211f06942>\u001b[0m in \u001b[0;36m<module>\u001b[1;34m\u001b[0m\n\u001b[0;32m      5\u001b[0m \u001b[1;32mfrom\u001b[0m \u001b[0mkeras\u001b[0m\u001b[1;33m.\u001b[0m\u001b[0mutils\u001b[0m \u001b[1;32mimport\u001b[0m \u001b[0mto_categorical\u001b[0m\u001b[1;33m\u001b[0m\u001b[1;33m\u001b[0m\u001b[0m\n\u001b[0;32m      6\u001b[0m \u001b[1;32mfrom\u001b[0m \u001b[0mkeras\u001b[0m\u001b[1;33m.\u001b[0m\u001b[0mmodels\u001b[0m \u001b[1;32mimport\u001b[0m \u001b[0mSequential\u001b[0m\u001b[1;33m\u001b[0m\u001b[1;33m\u001b[0m\u001b[0m\n\u001b[1;32m----> 7\u001b[1;33m \u001b[1;32mfrom\u001b[0m \u001b[0mkeras\u001b[0m\u001b[1;33m.\u001b[0m\u001b[0mlayers\u001b[0m\u001b[1;33m.\u001b[0m\u001b[0mcore\u001b[0m \u001b[1;32mimport\u001b[0m \u001b[0mDense\u001b[0m\u001b[1;33m,\u001b[0m \u001b[0mConv2D\u001b[0m\u001b[1;33m,\u001b[0m \u001b[0mDeconvolution2D\u001b[0m\u001b[1;33m,\u001b[0m \u001b[0mMaxPooling2D\u001b[0m\u001b[1;33m,\u001b[0m \u001b[0mFlatten\u001b[0m\u001b[1;33m\u001b[0m\u001b[1;33m\u001b[0m\u001b[0m\n\u001b[0m\u001b[0;32m      8\u001b[0m \u001b[1;32mfrom\u001b[0m \u001b[0mkeras\u001b[0m \u001b[1;32mimport\u001b[0m \u001b[0mlayers\u001b[0m \u001b[1;32mas\u001b[0m \u001b[0mL\u001b[0m\u001b[1;33m\u001b[0m\u001b[1;33m\u001b[0m\u001b[0m\n",
      "\u001b[1;31mImportError\u001b[0m: cannot import name 'Conv2D'"
     ]
    }
   ],
   "source": [
    "import os\n",
    "import numpy as np\n",
    "from PIL import Image\n",
    "from sklearn.model_selection import train_test_split\n",
    "from keras.utils import to_categorical\n",
    "from keras.models import Sequential\n",
    "#from keras.layers.core import Dense, Conv2D, Deconvolution2D, MaxPooling2D, Flatten\n",
    "from keras import layers as L\n",
    "from keras.layers.core import Dense, Dropout, Flatten\n",
    "from keras.layers.convolutional import Conv2D, MaxPooling2D, SeparableConv2D"
   ]
  },
  {
   "cell_type": "code",
   "execution_count": 2,
   "metadata": {},
   "outputs": [
    {
     "data": {
      "text/plain": [
       "'C:\\\\Users\\\\david\\\\Desktop\\\\DATAMAD-0819\\\\laboratorios\\\\Proyecto_Final\\\\SRC'"
      ]
     },
     "execution_count": 2,
     "metadata": {},
     "output_type": "execute_result"
    }
   ],
   "source": [
    "pwd"
   ]
  },
  {
   "cell_type": "code",
   "execution_count": 3,
   "metadata": {},
   "outputs": [],
   "source": [
    "path = '../Euro_Sat/'"
   ]
  },
  {
   "cell_type": "code",
   "execution_count": 4,
   "metadata": {},
   "outputs": [],
   "source": [
    "dic = {}\n",
    "entrada = []\n",
    "salida = []\n",
    "i = 0\n",
    "\n",
    "for ele in os.listdir(path):\n",
    "    if os.path.isdir(path+ele):\n",
    "        for file in os.listdir(path+ele):\n",
    "            im = Image.open(os.path.join(path,ele,file))\n",
    "            im_array = np.array(im)\n",
    "            entrada.append(im_array)\n",
    "            salida.append(i)\n",
    "        dic[i] = ele\n",
    "        i += 1\n"
   ]
  },
  {
   "cell_type": "code",
   "execution_count": 56,
   "metadata": {},
   "outputs": [],
   "source": [
    "from sklearn import preprocessing"
   ]
  },
  {
   "cell_type": "code",
   "execution_count": 60,
   "metadata": {},
   "outputs": [
    {
     "name": "stdout",
     "output_type": "stream",
     "text": [
      "LabelEncoder()\n"
     ]
    },
    {
     "data": {
      "text/plain": [
       "['AnnualCrop',\n",
       " 'Forest',\n",
       " 'HerbaceousVegetation',\n",
       " 'Highway',\n",
       " 'Industrial',\n",
       " 'Pasture',\n",
       " 'PermanentCrop',\n",
       " 'Residential',\n",
       " 'river',\n",
       " 'seaLake']"
      ]
     },
     "execution_count": 60,
     "metadata": {},
     "output_type": "execute_result"
    }
   ],
   "source": [
    "#le = preprocessing.LabelEncoder()\n",
    "#print(le.fit([\"AnnualCrop\", \"Forest\", \"HerbaceousVegetation\", \"Highway\", \"Industrial\",\n",
    "        \"Pasture\", \"PermanentCrop\", \"Residential\", \"river\", \"seaLake\"]))\n",
    "\n",
    "#list(le.classes_)\n",
    "\n",
    "\n",
    "\n",
    "#list(le.inverse_transform([2, 2, 1]))\n"
   ]
  },
  {
   "cell_type": "code",
   "execution_count": 71,
   "metadata": {},
   "outputs": [
    {
     "name": "stdout",
     "output_type": "stream",
     "text": [
      "[0 1 2 3 4 5 6 7 8 9]\n"
     ]
    }
   ],
   "source": [
    "print(le.transform([\"AnnualCrop\", \"Forest\", \"HerbaceousVegetation\", \"Highway\", \"Industrial\",\n",
    "        \"Pasture\", \"PermanentCrop\", \"Residential\", \"river\", \"seaLake\"]))"
   ]
  },
  {
   "cell_type": "code",
   "execution_count": 66,
   "metadata": {},
   "outputs": [],
   "source": [
    "pru = Image.open(\"../SRC/test2.jpg\")\n",
    "pru_array = np.array(im)\n",
    "test_image = np.array([pru_array])"
   ]
  },
  {
   "cell_type": "code",
   "execution_count": 67,
   "metadata": {},
   "outputs": [
    {
     "data": {
      "text/plain": [
       "array([[0., 0., 0., 0., 1., 0., 0., 0., 0., 0.]], dtype=float32)"
      ]
     },
     "execution_count": 67,
     "metadata": {},
     "output_type": "execute_result"
    }
   ],
   "source": [
    "model.predict(test_image)"
   ]
  },
  {
   "cell_type": "code",
   "execution_count": 5,
   "metadata": {},
   "outputs": [],
   "source": [
    "clases_salida = to_categorical(salida)"
   ]
  },
  {
   "cell_type": "code",
   "execution_count": 6,
   "metadata": {},
   "outputs": [],
   "source": [
    "entrada = np.array(entrada)\n",
    "entrada = entrada/255"
   ]
  },
  {
   "cell_type": "code",
   "execution_count": 12,
   "metadata": {},
   "outputs": [],
   "source": [
    "x_train, x_test, y_train, y_test = train_test_split(entrada, clases_salida, test_size=0.2, shuffle=True)"
   ]
  },
  {
   "cell_type": "code",
   "execution_count": 13,
   "metadata": {},
   "outputs": [
    {
     "name": "stdout",
     "output_type": "stream",
     "text": [
      "Model: \"sequential_2\"\n",
      "_________________________________________________________________\n",
      "Layer (type)                 Output Shape              Param #   \n",
      "=================================================================\n",
      "conv2d_4 (Conv2D)            (None, 62, 62, 16)        448       \n",
      "_________________________________________________________________\n",
      "max_pooling2d_3 (MaxPooling2 (None, 31, 31, 16)        0         \n",
      "_________________________________________________________________\n",
      "conv2d_5 (Conv2D)            (None, 29, 29, 32)        4640      \n",
      "_________________________________________________________________\n",
      "max_pooling2d_4 (MaxPooling2 (None, 14, 14, 32)        0         \n",
      "_________________________________________________________________\n",
      "conv2d_6 (Conv2D)            (None, 12, 12, 64)        18496     \n",
      "_________________________________________________________________\n",
      "flatten_2 (Flatten)          (None, 9216)              0         \n",
      "_________________________________________________________________\n",
      "dense_3 (Dense)              (None, 50)                460850    \n",
      "_________________________________________________________________\n",
      "dense_4 (Dense)              (None, 10)                510       \n",
      "=================================================================\n",
      "Total params: 484,944\n",
      "Trainable params: 484,944\n",
      "Non-trainable params: 0\n",
      "_________________________________________________________________\n"
     ]
    }
   ],
   "source": [
    "in_shape = x_train[0,:,:,:].shape\n",
    "\n",
    "model = Sequential()\n",
    "\n",
    "model.add(Conv2D(16, kernel_size=3, activation='relu', input_shape=in_shape))\n",
    "model.add(MaxPooling2D(pool_size=(2,2)))\n",
    "model.add(Conv2D(32, kernel_size=3, activation='relu'))\n",
    "model.add(MaxPooling2D(pool_size=(2,2)))\n",
    "model.add(Conv2D(64, kernel_size=3, activation='relu'))\n",
    "model.add(Flatten())\n",
    "model.add(Dense(50))\n",
    "model.add(Dense(len(dic), activation='softmax'))\n",
    "model.summary()"
   ]
  },
  {
   "cell_type": "code",
   "execution_count": 14,
   "metadata": {},
   "outputs": [],
   "source": [
    "model.compile(optimizer='adam', loss='categorical_crossentropy', metrics=['accuracy'])"
   ]
  },
  {
   "cell_type": "code",
   "execution_count": 15,
   "metadata": {},
   "outputs": [
    {
     "name": "stdout",
     "output_type": "stream",
     "text": [
      "Train on 21600 samples, validate on 5400 samples\n",
      "Epoch 1/25\n",
      "21600/21600 [==============================] - 46s 2ms/step - loss: 1.1958 - accuracy: 0.5585 - val_loss: 0.8447 - val_accuracy: 0.6919\n",
      "Epoch 2/25\n",
      "21600/21600 [==============================] - 46s 2ms/step - loss: 0.7666 - accuracy: 0.7254 - val_loss: 0.6307 - val_accuracy: 0.7741\n",
      "Epoch 3/25\n",
      "21600/21600 [==============================] - 46s 2ms/step - loss: 0.6359 - accuracy: 0.7712 - val_loss: 0.6418 - val_accuracy: 0.7672\n",
      "Epoch 4/25\n",
      "21600/21600 [==============================] - 46s 2ms/step - loss: 0.5647 - accuracy: 0.7985 - val_loss: 0.5382 - val_accuracy: 0.8148\n",
      "Epoch 5/25\n",
      "21600/21600 [==============================] - 49s 2ms/step - loss: 0.5073 - accuracy: 0.8201 - val_loss: 0.5639 - val_accuracy: 0.8035\n",
      "Epoch 6/25\n",
      "21600/21600 [==============================] - 46s 2ms/step - loss: 0.4617 - accuracy: 0.8348 - val_loss: 0.6189 - val_accuracy: 0.7843\n",
      "Epoch 7/25\n",
      "21600/21600 [==============================] - 46s 2ms/step - loss: 0.4142 - accuracy: 0.8519 - val_loss: 0.5780 - val_accuracy: 0.7991\n",
      "Epoch 8/25\n",
      "21600/21600 [==============================] - 46s 2ms/step - loss: 0.3556 - accuracy: 0.8732 - val_loss: 0.5534 - val_accuracy: 0.8031\n",
      "Epoch 9/25\n",
      "21600/21600 [==============================] - 46s 2ms/step - loss: 0.3240 - accuracy: 0.8852 - val_loss: 0.4719 - val_accuracy: 0.8494\n",
      "Epoch 10/25\n",
      "21600/21600 [==============================] - 47s 2ms/step - loss: 0.2903 - accuracy: 0.8958 - val_loss: 0.5220 - val_accuracy: 0.8394\n",
      "Epoch 11/25\n",
      "21600/21600 [==============================] - 46s 2ms/step - loss: 0.2480 - accuracy: 0.9124 - val_loss: 0.5556 - val_accuracy: 0.8306\n",
      "Epoch 12/25\n",
      "21600/21600 [==============================] - 46s 2ms/step - loss: 0.2093 - accuracy: 0.9262 - val_loss: 0.6149 - val_accuracy: 0.8206\n",
      "Epoch 13/25\n",
      "21600/21600 [==============================] - 46s 2ms/step - loss: 0.1965 - accuracy: 0.9316 - val_loss: 0.7187 - val_accuracy: 0.7993\n",
      "Epoch 14/25\n",
      "21600/21600 [==============================] - 46s 2ms/step - loss: 0.1652 - accuracy: 0.9423 - val_loss: 0.6359 - val_accuracy: 0.8296\n",
      "Epoch 15/25\n",
      "21600/21600 [==============================] - 46s 2ms/step - loss: 0.1436 - accuracy: 0.9534 - val_loss: 0.7657 - val_accuracy: 0.8193\n",
      "Epoch 16/25\n",
      "21600/21600 [==============================] - 51s 2ms/step - loss: 0.1471 - accuracy: 0.9504 - val_loss: 0.6792 - val_accuracy: 0.8304\n",
      "Epoch 17/25\n",
      "21600/21600 [==============================] - 51s 2ms/step - loss: 0.1146 - accuracy: 0.9606 - val_loss: 0.7584 - val_accuracy: 0.8265\n",
      "Epoch 18/25\n",
      "21600/21600 [==============================] - 51s 2ms/step - loss: 0.1326 - accuracy: 0.9552 - val_loss: 0.8380 - val_accuracy: 0.8157\n",
      "Epoch 19/25\n",
      "21600/21600 [==============================] - 48s 2ms/step - loss: 0.0958 - accuracy: 0.9684 - val_loss: 0.8122 - val_accuracy: 0.8163\n",
      "Epoch 20/25\n",
      "21600/21600 [==============================] - 49s 2ms/step - loss: 0.1112 - accuracy: 0.9629 - val_loss: 0.9079 - val_accuracy: 0.8202\n",
      "Epoch 21/25\n",
      "21600/21600 [==============================] - 49s 2ms/step - loss: 0.0918 - accuracy: 0.9696 - val_loss: 0.8693 - val_accuracy: 0.8319\n",
      "Epoch 22/25\n",
      "21600/21600 [==============================] - 51s 2ms/step - loss: 0.0922 - accuracy: 0.9685 - val_loss: 0.9399 - val_accuracy: 0.8211\n",
      "Epoch 23/25\n",
      "21600/21600 [==============================] - 52s 2ms/step - loss: 0.0827 - accuracy: 0.9727 - val_loss: 0.9006 - val_accuracy: 0.8270\n",
      "Epoch 24/25\n",
      "21600/21600 [==============================] - 53s 2ms/step - loss: 0.0751 - accuracy: 0.9743 - val_loss: 1.0505 - val_accuracy: 0.7943\n",
      "Epoch 25/25\n",
      "21600/21600 [==============================] - 52s 2ms/step - loss: 0.0814 - accuracy: 0.9729 - val_loss: 1.0380 - val_accuracy: 0.8265\n"
     ]
    },
    {
     "data": {
      "text/plain": [
       "<keras.callbacks.callbacks.History at 0x12ca679b6a0>"
      ]
     },
     "execution_count": 15,
     "metadata": {},
     "output_type": "execute_result"
    }
   ],
   "source": [
    "model.fit(x_train, y_train, validation_data=(x_test, y_test), epochs=2)"
   ]
  },
  {
   "cell_type": "code",
   "execution_count": 16,
   "metadata": {},
   "outputs": [
    {
     "name": "stdout",
     "output_type": "stream",
     "text": [
      "accuracy: 99.06%\n"
     ]
    }
   ],
   "source": [
    "scores = model.evaluate(x_train, y_train, verbose=0)\n",
    "print(\"%s: %.2f%%\" % (model.metrics_names[1], scores[1]*100))"
   ]
  },
  {
   "cell_type": "code",
   "execution_count": null,
   "metadata": {},
   "outputs": [],
   "source": []
  },
  {
   "cell_type": "code",
   "execution_count": 17,
   "metadata": {},
   "outputs": [
    {
     "name": "stdout",
     "output_type": "stream",
     "text": [
      "Saved model to disk\n"
     ]
    }
   ],
   "source": [
    "model_json = model.to_json()\n",
    "with open(\"model.json\", \"w\") as json_file:\n",
    "    json_file.write(model_json)\n",
    "# serialize weights to HDF5\n",
    "model.save_weights(\"model.h5\")\n",
    "print(\"Saved model to disk\")"
   ]
  },
  {
   "cell_type": "code",
   "execution_count": null,
   "metadata": {},
   "outputs": [],
   "source": []
  },
  {
   "cell_type": "code",
   "execution_count": 19,
   "metadata": {},
   "outputs": [],
   "source": [
    "prueba_test = model.predict(x_test)"
   ]
  },
  {
   "cell_type": "code",
   "execution_count": 20,
   "metadata": {},
   "outputs": [
    {
     "name": "stdout",
     "output_type": "stream",
     "text": [
      "0.0\n",
      "0.0\n",
      "0.0\n",
      "0.0\n",
      "1.0\n",
      "0.0\n",
      "0.0\n",
      "0.0\n",
      "0.0\n",
      "0.0\n"
     ]
    }
   ],
   "source": [
    "for prueba in prueba_test[19]:\n",
    "    print(round(prueba,2))"
   ]
  },
  {
   "cell_type": "code",
   "execution_count": 21,
   "metadata": {},
   "outputs": [],
   "source": [
    "pred_test = [dic[np.argmax(p)] for p in prueba_test]"
   ]
  },
  {
   "cell_type": "code",
   "execution_count": 22,
   "metadata": {},
   "outputs": [],
   "source": [
    "suelos_test = [dic[np.argmax(s)] for s in y_test]"
   ]
  },
  {
   "cell_type": "code",
   "execution_count": 22,
   "metadata": {},
   "outputs": [],
   "source": [
    "s = suelos_test[:15]"
   ]
  },
  {
   "cell_type": "code",
   "execution_count": 23,
   "metadata": {},
   "outputs": [],
   "source": [
    "t = pred_test[:15]"
   ]
  },
  {
   "cell_type": "code",
   "execution_count": 24,
   "metadata": {},
   "outputs": [
    {
     "data": {
      "text/html": [
       "<div>\n",
       "<style scoped>\n",
       "    .dataframe tbody tr th:only-of-type {\n",
       "        vertical-align: middle;\n",
       "    }\n",
       "\n",
       "    .dataframe tbody tr th {\n",
       "        vertical-align: top;\n",
       "    }\n",
       "\n",
       "    .dataframe thead th {\n",
       "        text-align: right;\n",
       "    }\n",
       "</style>\n",
       "<table border=\"1\" class=\"dataframe\">\n",
       "  <thead>\n",
       "    <tr style=\"text-align: right;\">\n",
       "      <th></th>\n",
       "      <th>y_Actual</th>\n",
       "      <th>y_Predicted</th>\n",
       "    </tr>\n",
       "  </thead>\n",
       "  <tbody>\n",
       "    <tr>\n",
       "      <td>0</td>\n",
       "      <td>Industrial</td>\n",
       "      <td>Industrial</td>\n",
       "    </tr>\n",
       "    <tr>\n",
       "      <td>1</td>\n",
       "      <td>SeaLake</td>\n",
       "      <td>SeaLake</td>\n",
       "    </tr>\n",
       "    <tr>\n",
       "      <td>2</td>\n",
       "      <td>River</td>\n",
       "      <td>Forest</td>\n",
       "    </tr>\n",
       "    <tr>\n",
       "      <td>3</td>\n",
       "      <td>PermanentCrop</td>\n",
       "      <td>PermanentCrop</td>\n",
       "    </tr>\n",
       "    <tr>\n",
       "      <td>4</td>\n",
       "      <td>Industrial</td>\n",
       "      <td>Industrial</td>\n",
       "    </tr>\n",
       "    <tr>\n",
       "      <td>5</td>\n",
       "      <td>HerbaceousVegetation</td>\n",
       "      <td>HerbaceousVegetation</td>\n",
       "    </tr>\n",
       "    <tr>\n",
       "      <td>6</td>\n",
       "      <td>Industrial</td>\n",
       "      <td>Highway</td>\n",
       "    </tr>\n",
       "    <tr>\n",
       "      <td>7</td>\n",
       "      <td>AnnualCrop</td>\n",
       "      <td>River</td>\n",
       "    </tr>\n",
       "    <tr>\n",
       "      <td>8</td>\n",
       "      <td>AnnualCrop</td>\n",
       "      <td>AnnualCrop</td>\n",
       "    </tr>\n",
       "    <tr>\n",
       "      <td>9</td>\n",
       "      <td>HerbaceousVegetation</td>\n",
       "      <td>HerbaceousVegetation</td>\n",
       "    </tr>\n",
       "    <tr>\n",
       "      <td>10</td>\n",
       "      <td>SeaLake</td>\n",
       "      <td>SeaLake</td>\n",
       "    </tr>\n",
       "    <tr>\n",
       "      <td>11</td>\n",
       "      <td>SeaLake</td>\n",
       "      <td>SeaLake</td>\n",
       "    </tr>\n",
       "    <tr>\n",
       "      <td>12</td>\n",
       "      <td>HerbaceousVegetation</td>\n",
       "      <td>HerbaceousVegetation</td>\n",
       "    </tr>\n",
       "    <tr>\n",
       "      <td>13</td>\n",
       "      <td>PermanentCrop</td>\n",
       "      <td>PermanentCrop</td>\n",
       "    </tr>\n",
       "    <tr>\n",
       "      <td>14</td>\n",
       "      <td>AnnualCrop</td>\n",
       "      <td>SeaLake</td>\n",
       "    </tr>\n",
       "  </tbody>\n",
       "</table>\n",
       "</div>"
      ],
      "text/plain": [
       "                y_Actual           y_Predicted\n",
       "0             Industrial            Industrial\n",
       "1                SeaLake               SeaLake\n",
       "2                  River                Forest\n",
       "3          PermanentCrop         PermanentCrop\n",
       "4             Industrial            Industrial\n",
       "5   HerbaceousVegetation  HerbaceousVegetation\n",
       "6             Industrial               Highway\n",
       "7             AnnualCrop                 River\n",
       "8             AnnualCrop            AnnualCrop\n",
       "9   HerbaceousVegetation  HerbaceousVegetation\n",
       "10               SeaLake               SeaLake\n",
       "11               SeaLake               SeaLake\n",
       "12  HerbaceousVegetation  HerbaceousVegetation\n",
       "13         PermanentCrop         PermanentCrop\n",
       "14            AnnualCrop               SeaLake"
      ]
     },
     "execution_count": 24,
     "metadata": {},
     "output_type": "execute_result"
    }
   ],
   "source": [
    "import pandas as pd\n",
    "\n",
    "d = {'y_Actual': s,\n",
    "        'y_Predicted': t}\n",
    "\n",
    "dat = pd.DataFrame(data=d)\n",
    "dat"
   ]
  },
  {
   "cell_type": "code",
   "execution_count": 25,
   "metadata": {},
   "outputs": [
    {
     "data": {
      "text/plain": [
       "array([[1, 0, 0, 0, 0, 0, 1, 1],\n",
       "       [0, 0, 0, 0, 0, 0, 0, 0],\n",
       "       [0, 0, 3, 0, 0, 0, 0, 0],\n",
       "       [0, 0, 0, 0, 0, 0, 0, 0],\n",
       "       [0, 0, 0, 1, 2, 0, 0, 0],\n",
       "       [0, 0, 0, 0, 0, 2, 0, 0],\n",
       "       [0, 1, 0, 0, 0, 0, 0, 0],\n",
       "       [0, 0, 0, 0, 0, 0, 0, 3]], dtype=int64)"
      ]
     },
     "execution_count": 25,
     "metadata": {},
     "output_type": "execute_result"
    }
   ],
   "source": [
    "from sklearn.metrics import confusion_matrix\n",
    "confusion_matrix(s, t)"
   ]
  },
  {
   "cell_type": "code",
   "execution_count": 30,
   "metadata": {},
   "outputs": [],
   "source": [
    "import matplotlib.pyplot as plt\n",
    "my_image_resized = plt.imread(\"../Pruebas/test_sea.jpg\")"
   ]
  },
  {
   "cell_type": "code",
   "execution_count": 31,
   "metadata": {},
   "outputs": [],
   "source": [
    "import numpy as np\n",
    "probabilities = model.predict(np.array([my_image_resized,]))"
   ]
  },
  {
   "cell_type": "code",
   "execution_count": 32,
   "metadata": {},
   "outputs": [
    {
     "data": {
      "text/plain": [
       "array([[0., 0., 0., 0., 1., 0., 0., 0., 0., 0.]], dtype=float32)"
      ]
     },
     "execution_count": 32,
     "metadata": {},
     "output_type": "execute_result"
    }
   ],
   "source": [
    "probabilities"
   ]
  },
  {
   "cell_type": "code",
   "execution_count": 33,
   "metadata": {},
   "outputs": [],
   "source": [
    "number_to_class = ['AnnualCrop', 'Forest', 'HerbaceousVegetation', 'Highway', 'Industrial',\n",
    "                   'Pasture', 'PermanentCrop', 'Residential', 'river', 'seaLake']"
   ]
  },
  {
   "cell_type": "code",
   "execution_count": 34,
   "metadata": {},
   "outputs": [],
   "source": [
    "index = np.argsort(probabilities[0,:])"
   ]
  },
  {
   "cell_type": "code",
   "execution_count": 35,
   "metadata": {},
   "outputs": [
    {
     "name": "stdout",
     "output_type": "stream",
     "text": [
      "Most likely class: Industrial -- Probability: 1.0\n",
      "Second most likely class: seaLake -- Probability: 0.0\n",
      "Third most likely class: river -- Probability: 0.0\n",
      "Fourth most likely class: Residential -- Probability: 0.0\n",
      "Fifth most likely class: PermanentCrop -- Probability: 0.0\n",
      "sixth most likely class: Industrial -- Probability: 0.0\n",
      "seventh most likely class: seaLake -- Probability: 0.0\n",
      "eight most likely class: river -- Probability: 0.0\n",
      "nineth most likely class: Residential -- Probability: 0.0\n",
      "tenth most likely class: PermanentCrop -- Probability: 0.0\n"
     ]
    }
   ],
   "source": [
    "print(\"Most likely class:\", number_to_class[index[9]], \"-- Probability:\", probabilities[0,index[9]])\n",
    "print(\"Second most likely class:\", number_to_class[index[8]], \"-- Probability:\", probabilities[0,index[8]])\n",
    "print(\"Third most likely class:\", number_to_class[index[7]], \"-- Probability:\", probabilities[0,index[7]])\n",
    "print(\"Fourth most likely class:\", number_to_class[index[6]], \"-- Probability:\", probabilities[0,index[6]])\n",
    "print(\"Fifth most likely class:\", number_to_class[index[5]], \"-- Probability:\", probabilities[0,index[5]])\n",
    "print(\"sixth most likely class:\", number_to_class[index[9]], \"-- Probability:\", probabilities[0,index[4]])\n",
    "print(\"seventh most likely class:\", number_to_class[index[8]], \"-- Probability:\", probabilities[0,index[3]])\n",
    "print(\"eight most likely class:\", number_to_class[index[7]], \"-- Probability:\", probabilities[0,index[2]])\n",
    "print(\"nineth most likely class:\", number_to_class[index[6]], \"-- Probability:\", probabilities[0,index[1]])\n",
    "print(\"tenth most likely class:\", number_to_class[index[5]], \"-- Probability:\", probabilities[0,index[0]])"
   ]
  },
  {
   "cell_type": "code",
   "execution_count": 25,
   "metadata": {},
   "outputs": [
    {
     "data": {
      "text/plain": [
       "array([[0.00000000e+00, 0.00000000e+00, 0.00000000e+00, 7.92483687e-26,\n",
       "        1.00000000e+00, 0.00000000e+00, 4.23117161e-36, 0.00000000e+00,\n",
       "        8.26051013e-34, 1.50046975e-35],\n",
       "       [1.68201897e-08, 9.92738114e-10, 1.01622425e-01, 5.49199001e-04,\n",
       "        3.98225410e-07, 4.24567588e-06, 8.97823274e-01, 2.67768229e-07,\n",
       "        7.13268236e-08, 3.52467083e-11]], dtype=float32)"
      ]
     },
     "execution_count": 25,
     "metadata": {},
     "output_type": "execute_result"
    }
   ],
   "source": [
    "model.predict(x_test[0:2])"
   ]
  }
 ],
 "metadata": {
  "kernelspec": {
   "display_name": "Python 3",
   "language": "python",
   "name": "python3"
  },
  "language_info": {
   "codemirror_mode": {
    "name": "ipython",
    "version": 3
   },
   "file_extension": ".py",
   "mimetype": "text/x-python",
   "name": "python",
   "nbconvert_exporter": "python",
   "pygments_lexer": "ipython3",
   "version": "3.6.8"
  }
 },
 "nbformat": 4,
 "nbformat_minor": 2
}
