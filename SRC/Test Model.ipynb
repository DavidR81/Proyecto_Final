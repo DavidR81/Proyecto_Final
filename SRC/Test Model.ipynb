{
 "cells": [
  {
   "cell_type": "code",
   "execution_count": 85,
   "metadata": {},
   "outputs": [],
   "source": [
    "from keras.models import model_from_json\n",
    "from PIL import Image\n",
    "import numpy as np"
   ]
  },
  {
   "cell_type": "code",
   "execution_count": 86,
   "metadata": {},
   "outputs": [
    {
     "name": "stdout",
     "output_type": "stream",
     "text": [
      "Loaded model from disk\n"
     ]
    }
   ],
   "source": [
    "json_file = open('model1.json', 'r')\n",
    "loaded_model_json = json_file.read()\n",
    "json_file.close()\n",
    "loaded_model = model_from_json(loaded_model_json)\n",
    "# load weights into new model\n",
    "loaded_model.load_weights(\"model1.h5\")\n",
    "print(\"Loaded model from disk\")"
   ]
  },
  {
   "cell_type": "code",
   "execution_count": 89,
   "metadata": {},
   "outputs": [
    {
     "name": "stdout",
     "output_type": "stream",
     "text": [
      "El tipo de suelo es:  Forest\n",
      "No es urbanizable\n"
     ]
    }
   ],
   "source": [
    "clases = {1 :' AnnualCrop',\n",
    "          2 :' Forest',\n",
    "          3 :' HerbaceousVegetation',\n",
    "          4 : 'Highway',\n",
    "          5 : 'Industrial',\n",
    "          6 : 'Pasture',\n",
    "          7 : 'PermanentCrop',\n",
    "          8 : 'Residential',\n",
    "          9 : 'river',\n",
    "          10 : 'seaLake'}\n",
    "\n",
    "urbanizable = ['AnnualCrop', 'Residential', 'HerbaceousVegetation', 'Industrial', 'Residential']\n",
    "\n",
    "img=np.array(Image.open('../SRC/test2.jpg'))\n",
    "img=np.array([img/255])\n",
    "#print(np.max(img))\n",
    "\n",
    "#img=np.random.rand(1,64,64,3)\n",
    "pred=loaded_model.predict(img)\n",
    "pred=list(pred[0])\n",
    "resultado = pred.index(max(pred))\n",
    "print('El tipo de suelo es: ', clases[resultado])\n",
    "if resultado in urbanizable:\n",
    "    print('Es urbanizable')\n",
    "else:\n",
    "    print('No es urbanizable')"
   ]
  },
  {
   "cell_type": "code",
   "execution_count": null,
   "metadata": {},
   "outputs": [],
   "source": []
  }
 ],
 "metadata": {
  "kernelspec": {
   "display_name": "Python 3",
   "language": "python",
   "name": "python3"
  },
  "language_info": {
   "codemirror_mode": {
    "name": "ipython",
    "version": 3
   },
   "file_extension": ".py",
   "mimetype": "text/x-python",
   "name": "python",
   "nbconvert_exporter": "python",
   "pygments_lexer": "ipython3",
   "version": "3.6.8"
  }
 },
 "nbformat": 4,
 "nbformat_minor": 2
}
