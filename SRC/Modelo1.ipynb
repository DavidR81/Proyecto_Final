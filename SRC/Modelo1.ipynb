{
 "cells": [
  {
   "cell_type": "code",
   "execution_count": 1,
   "metadata": {},
   "outputs": [
    {
     "name": "stderr",
     "output_type": "stream",
     "text": [
      "Using TensorFlow backend.\n"
     ]
    }
   ],
   "source": [
    "import os\n",
    "import numpy as np\n",
    "from PIL import Image\n",
    "from sklearn.model_selection import train_test_split\n",
    "from keras.utils import to_categorical\n",
    "from keras.models import Sequential\n",
    "from keras.layers import Dense, Conv2D, Deconvolution2D, MaxPooling2D, Flatten\n",
    "from keras import layers as L"
   ]
  },
  {
   "cell_type": "code",
   "execution_count": 2,
   "metadata": {},
   "outputs": [
    {
     "data": {
      "text/plain": [
       "'C:\\\\Users\\\\david\\\\Desktop\\\\DATAMAD-0819\\\\laboratorios\\\\Final_Project\\\\Final_Project\\\\SRC'"
      ]
     },
     "execution_count": 2,
     "metadata": {},
     "output_type": "execute_result"
    }
   ],
   "source": [
    "pwd"
   ]
  },
  {
   "cell_type": "code",
   "execution_count": 3,
   "metadata": {},
   "outputs": [],
   "source": [
    "path = './Euro_Sat/'"
   ]
  },
  {
   "cell_type": "code",
   "execution_count": 4,
   "metadata": {},
   "outputs": [
    {
     "ename": "FileNotFoundError",
     "evalue": "[WinError 3] El sistema no puede encontrar la ruta especificada: './Euro_Sat/'",
     "output_type": "error",
     "traceback": [
      "\u001b[1;31m---------------------------------------------------------------------------\u001b[0m",
      "\u001b[1;31mFileNotFoundError\u001b[0m                         Traceback (most recent call last)",
      "\u001b[1;32m<ipython-input-4-5a79ef1d7922>\u001b[0m in \u001b[0;36m<module>\u001b[1;34m\u001b[0m\n\u001b[0;32m      4\u001b[0m \u001b[0mi\u001b[0m \u001b[1;33m=\u001b[0m \u001b[1;36m0\u001b[0m\u001b[1;33m\u001b[0m\u001b[1;33m\u001b[0m\u001b[0m\n\u001b[0;32m      5\u001b[0m \u001b[1;33m\u001b[0m\u001b[0m\n\u001b[1;32m----> 6\u001b[1;33m \u001b[1;32mfor\u001b[0m \u001b[0mele\u001b[0m \u001b[1;32min\u001b[0m \u001b[0mos\u001b[0m\u001b[1;33m.\u001b[0m\u001b[0mlistdir\u001b[0m\u001b[1;33m(\u001b[0m\u001b[0mpath\u001b[0m\u001b[1;33m)\u001b[0m\u001b[1;33m:\u001b[0m\u001b[1;33m\u001b[0m\u001b[1;33m\u001b[0m\u001b[0m\n\u001b[0m\u001b[0;32m      7\u001b[0m     \u001b[1;32mif\u001b[0m \u001b[0mos\u001b[0m\u001b[1;33m.\u001b[0m\u001b[0mpath\u001b[0m\u001b[1;33m.\u001b[0m\u001b[0misdir\u001b[0m\u001b[1;33m(\u001b[0m\u001b[0mpath\u001b[0m\u001b[1;33m+\u001b[0m\u001b[0mele\u001b[0m\u001b[1;33m)\u001b[0m\u001b[1;33m:\u001b[0m\u001b[1;33m\u001b[0m\u001b[1;33m\u001b[0m\u001b[0m\n\u001b[0;32m      8\u001b[0m         \u001b[1;32mfor\u001b[0m \u001b[0mfile\u001b[0m \u001b[1;32min\u001b[0m \u001b[0mos\u001b[0m\u001b[1;33m.\u001b[0m\u001b[0mlistdir\u001b[0m\u001b[1;33m(\u001b[0m\u001b[0mpath\u001b[0m\u001b[1;33m+\u001b[0m\u001b[0mele\u001b[0m\u001b[1;33m)\u001b[0m\u001b[1;33m:\u001b[0m\u001b[1;33m\u001b[0m\u001b[1;33m\u001b[0m\u001b[0m\n",
      "\u001b[1;31mFileNotFoundError\u001b[0m: [WinError 3] El sistema no puede encontrar la ruta especificada: './Euro_Sat/'"
     ]
    }
   ],
   "source": [
    "dic = {}\n",
    "entrada = []\n",
    "salida = []\n",
    "i = 0\n",
    "\n",
    "for ele in os.listdir(path):\n",
    "    if os.path.isdir(path+ele):\n",
    "        for file in os.listdir(path+ele):\n",
    "            im = Image.open(os.path.join(path,ele,file))\n",
    "            im_array = np.array(im)\n",
    "            entrada.append(im_array)\n",
    "            salida.append(i)\n",
    "        dic[i] = ele\n",
    "        i += 1\n"
   ]
  },
  {
   "cell_type": "code",
   "execution_count": null,
   "metadata": {},
   "outputs": [],
   "source": [
    "clases_salida = to_categorical(salida)"
   ]
  },
  {
   "cell_type": "code",
   "execution_count": null,
   "metadata": {},
   "outputs": [],
   "source": [
    "entrada = np.array(entrada)\n",
    "entrada = entrada/255"
   ]
  },
  {
   "cell_type": "code",
   "execution_count": null,
   "metadata": {},
   "outputs": [],
   "source": [
    "x_train, x_test, y_train, y_test = train_test_split(entrada, clases_salida, test_size=0.2, shuffle=True)"
   ]
  },
  {
   "cell_type": "code",
   "execution_count": null,
   "metadata": {},
   "outputs": [],
   "source": [
    "in_shape = x_train[0,:,:,:].shape\n",
    "\n",
    "model = Sequential()\n",
    "\n",
    "model.add(Conv2D(16, kernel_size=3, activation='relu', input_shape=in_shape))\n",
    "model.add(MaxPooling2D(pool_size=(2,2)))\n",
    "model.add(Conv2D(32, kernel_size=3, activation='relu'))\n",
    "model.add(MaxPooling2D(pool_size=(2,2)))\n",
    "model.add(Conv2D(64, kernel_size=3, activation='relu'))\n",
    "model.add(Flatten())\n",
    "model.add(Dense(50))\n",
    "model.add(Dense(len(dic), activation='softmax'))\n",
    "model.summary()"
   ]
  },
  {
   "cell_type": "code",
   "execution_count": null,
   "metadata": {},
   "outputs": [],
   "source": [
    "model.compile(optimizer='adam', loss='categorical_crossentropy', metrics=['accuracy'])"
   ]
  },
  {
   "cell_type": "code",
   "execution_count": null,
   "metadata": {},
   "outputs": [],
   "source": [
    "model.fit(x_train, y_train, validation_data=(x_test, y_test), epochs=25)"
   ]
  },
  {
   "cell_type": "code",
   "execution_count": null,
   "metadata": {},
   "outputs": [],
   "source": [
    "scores = model.evaluate(x_train, y_train, verbose=0)\n",
    "print(\"%s: %.2f%%\" % (model.metrics_names[1], scores[1]*100))"
   ]
  },
  {
   "cell_type": "code",
   "execution_count": null,
   "metadata": {},
   "outputs": [],
   "source": [
    "# serialize model to JSON\n",
    "model_1 = model.to_json()\n",
    "with open(\"model.json\", \"w\") as json_file:\n",
    "    json_file.write(model_1)"
   ]
  },
  {
   "cell_type": "code",
   "execution_count": null,
   "metadata": {},
   "outputs": [],
   "source": [
    "# serialize weights to HDF5\n",
    "model.save_weights(\"model.h5\")\n",
    "print(\"Saved model to disk\")"
   ]
  },
  {
   "cell_type": "code",
   "execution_count": 82,
   "metadata": {},
   "outputs": [],
   "source": [
    "prueba_test = model.predict(x_test)"
   ]
  },
  {
   "cell_type": "code",
   "execution_count": 83,
   "metadata": {},
   "outputs": [
    {
     "data": {
      "text/plain": [
       "array([[[[0.58431373, 0.50588235, 0.47843137],\n",
       "         [0.58039216, 0.50588235, 0.48235294],\n",
       "         [0.48235294, 0.41960784, 0.42352941],\n",
       "         ...,\n",
       "         [0.48627451, 0.43529412, 0.4       ],\n",
       "         [0.48235294, 0.41568627, 0.38823529],\n",
       "         [0.54117647, 0.4745098 , 0.44705882]],\n",
       "\n",
       "        [[0.58039216, 0.50588235, 0.49019608],\n",
       "         [0.57647059, 0.50588235, 0.49803922],\n",
       "         [0.4745098 , 0.41960784, 0.41960784],\n",
       "         ...,\n",
       "         [0.48627451, 0.43529412, 0.40392157],\n",
       "         [0.48235294, 0.41568627, 0.38823529],\n",
       "         [0.54509804, 0.47058824, 0.44705882]],\n",
       "\n",
       "        [[0.51764706, 0.4627451 , 0.4627451 ],\n",
       "         [0.50980392, 0.4627451 , 0.4627451 ],\n",
       "         [0.4745098 , 0.42745098, 0.42745098],\n",
       "         ...,\n",
       "         [0.47843137, 0.42745098, 0.40392157],\n",
       "         [0.47843137, 0.40392157, 0.38039216],\n",
       "         [0.6       , 0.52156863, 0.49411765]],\n",
       "\n",
       "        ...,\n",
       "\n",
       "        [[0.79607843, 0.58823529, 0.53333333],\n",
       "         [0.79215686, 0.58823529, 0.5372549 ],\n",
       "         [0.80392157, 0.6       , 0.55686275],\n",
       "         ...,\n",
       "         [0.67843137, 0.54901961, 0.48235294],\n",
       "         [0.70588235, 0.57647059, 0.50980392],\n",
       "         [0.70196078, 0.57254902, 0.49803922]],\n",
       "\n",
       "        [[0.79215686, 0.58823529, 0.53333333],\n",
       "         [0.79215686, 0.58823529, 0.5372549 ],\n",
       "         [0.8       , 0.59607843, 0.55294118],\n",
       "         ...,\n",
       "         [0.70196078, 0.56470588, 0.49019608],\n",
       "         [0.69803922, 0.56078431, 0.48627451],\n",
       "         [0.74901961, 0.61176471, 0.53333333]],\n",
       "\n",
       "        [[0.81176471, 0.60784314, 0.55294118],\n",
       "         [0.81176471, 0.60784314, 0.55294118],\n",
       "         [0.80784314, 0.60392157, 0.56078431],\n",
       "         ...,\n",
       "         [0.70196078, 0.56470588, 0.49019608],\n",
       "         [0.70588235, 0.56078431, 0.48627451],\n",
       "         [0.74117647, 0.59607843, 0.52156863]]],\n",
       "\n",
       "\n",
       "       [[[0.24313725, 0.35686275, 0.37254902],\n",
       "         [0.24313725, 0.36470588, 0.37647059],\n",
       "         [0.23921569, 0.36078431, 0.37254902],\n",
       "         ...,\n",
       "         [0.23529412, 0.32941176, 0.36862745],\n",
       "         [0.23921569, 0.32941176, 0.36078431],\n",
       "         [0.23529412, 0.3254902 , 0.35686275]],\n",
       "\n",
       "        [[0.24313725, 0.35686275, 0.37254902],\n",
       "         [0.24313725, 0.35686275, 0.37254902],\n",
       "         [0.23921569, 0.36078431, 0.37254902],\n",
       "         ...,\n",
       "         [0.23529412, 0.32941176, 0.36862745],\n",
       "         [0.23921569, 0.32941176, 0.36078431],\n",
       "         [0.23529412, 0.3254902 , 0.35686275]],\n",
       "\n",
       "        [[0.25098039, 0.36862745, 0.37647059],\n",
       "         [0.25098039, 0.36862745, 0.37647059],\n",
       "         [0.25490196, 0.37254902, 0.38039216],\n",
       "         ...,\n",
       "         [0.23137255, 0.3254902 , 0.36470588],\n",
       "         [0.23529412, 0.32156863, 0.36470588],\n",
       "         [0.23529412, 0.32156863, 0.36470588]],\n",
       "\n",
       "        ...,\n",
       "\n",
       "        [[0.23529412, 0.31372549, 0.35686275],\n",
       "         [0.23921569, 0.30980392, 0.34901961],\n",
       "         [0.26666667, 0.32156863, 0.35686275],\n",
       "         ...,\n",
       "         [0.21568627, 0.29411765, 0.3372549 ],\n",
       "         [0.21568627, 0.30196078, 0.34509804],\n",
       "         [0.21960784, 0.31372549, 0.35294118]],\n",
       "\n",
       "        [[0.22745098, 0.31764706, 0.34901961],\n",
       "         [0.23529412, 0.31372549, 0.34901961],\n",
       "         [0.2627451 , 0.32941176, 0.36078431],\n",
       "         ...,\n",
       "         [0.2       , 0.29411765, 0.34117647],\n",
       "         [0.2       , 0.30588235, 0.34901961],\n",
       "         [0.20392157, 0.30980392, 0.35294118]],\n",
       "\n",
       "        [[0.24313725, 0.33333333, 0.36470588],\n",
       "         [0.25490196, 0.33333333, 0.36862745],\n",
       "         [0.28627451, 0.35294118, 0.38431373],\n",
       "         ...,\n",
       "         [0.18431373, 0.29019608, 0.33333333],\n",
       "         [0.18431373, 0.29411765, 0.34117647],\n",
       "         [0.19215686, 0.30196078, 0.34901961]]],\n",
       "\n",
       "\n",
       "       [[[0.29803922, 0.37647059, 0.40392157],\n",
       "         [0.29019608, 0.38039216, 0.40392157],\n",
       "         [0.2745098 , 0.36470588, 0.39607843],\n",
       "         ...,\n",
       "         [0.2       , 0.39215686, 0.36862745],\n",
       "         [0.20392157, 0.38823529, 0.36470588],\n",
       "         [0.21176471, 0.39607843, 0.37254902]],\n",
       "\n",
       "        [[0.29019608, 0.38039216, 0.40392157],\n",
       "         [0.29019608, 0.38039216, 0.41176471],\n",
       "         [0.2745098 , 0.36470588, 0.39607843],\n",
       "         ...,\n",
       "         [0.2       , 0.39215686, 0.36862745],\n",
       "         [0.2       , 0.38431373, 0.36078431],\n",
       "         [0.21176471, 0.39607843, 0.37254902]],\n",
       "\n",
       "        [[0.23529412, 0.34117647, 0.36862745],\n",
       "         [0.24313725, 0.34117647, 0.36862745],\n",
       "         [0.30196078, 0.38823529, 0.43137255],\n",
       "         ...,\n",
       "         [0.20392157, 0.39607843, 0.37254902],\n",
       "         [0.20784314, 0.39215686, 0.36862745],\n",
       "         [0.21176471, 0.39607843, 0.37254902]],\n",
       "\n",
       "        ...,\n",
       "\n",
       "        [[0.36078431, 0.39607843, 0.41568627],\n",
       "         [0.35686275, 0.4       , 0.41568627],\n",
       "         [0.35294118, 0.41960784, 0.44705882],\n",
       "         ...,\n",
       "         [0.20392157, 0.29803922, 0.34509804],\n",
       "         [0.19215686, 0.26666667, 0.32156863],\n",
       "         [0.32941176, 0.39215686, 0.45098039]],\n",
       "\n",
       "        [[0.40784314, 0.40784314, 0.43921569],\n",
       "         [0.39607843, 0.41568627, 0.43921569],\n",
       "         [0.36078431, 0.4       , 0.43529412],\n",
       "         ...,\n",
       "         [0.2       , 0.29411765, 0.34117647],\n",
       "         [0.22745098, 0.29019608, 0.34901961],\n",
       "         [0.49411765, 0.54901961, 0.6       ]],\n",
       "\n",
       "        [[0.62745098, 0.61568627, 0.65098039],\n",
       "         [0.61960784, 0.61960784, 0.65098039],\n",
       "         [0.4745098 , 0.50196078, 0.54117647],\n",
       "         ...,\n",
       "         [0.19215686, 0.27843137, 0.32941176],\n",
       "         [0.29411765, 0.35686275, 0.41568627],\n",
       "         [0.51764706, 0.56470588, 0.61960784]]],\n",
       "\n",
       "\n",
       "       ...,\n",
       "\n",
       "\n",
       "       [[[0.63529412, 0.5254902 , 0.50980392],\n",
       "         [0.63529412, 0.5254902 , 0.50980392],\n",
       "         [0.63529412, 0.52156863, 0.50588235],\n",
       "         ...,\n",
       "         [0.47058824, 0.49411765, 0.44705882],\n",
       "         [0.45490196, 0.48235294, 0.45098039],\n",
       "         [0.43529412, 0.4745098 , 0.44313725]],\n",
       "\n",
       "        [[0.63137255, 0.52156863, 0.50588235],\n",
       "         [0.63529412, 0.5254902 , 0.50980392],\n",
       "         [0.63529412, 0.52156863, 0.50588235],\n",
       "         ...,\n",
       "         [0.4745098 , 0.48627451, 0.44313725],\n",
       "         [0.45882353, 0.47843137, 0.45098039],\n",
       "         [0.44705882, 0.4745098 , 0.44313725]],\n",
       "\n",
       "        [[0.63921569, 0.53333333, 0.50588235],\n",
       "         [0.64313725, 0.5372549 , 0.50980392],\n",
       "         [0.63529412, 0.5254902 , 0.50980392],\n",
       "         ...,\n",
       "         [0.49803922, 0.50588235, 0.4627451 ],\n",
       "         [0.49019608, 0.50196078, 0.46666667],\n",
       "         [0.4627451 , 0.4745098 , 0.43921569]],\n",
       "\n",
       "        ...,\n",
       "\n",
       "        [[0.32941176, 0.47843137, 0.41960784],\n",
       "         [0.3254902 , 0.4745098 , 0.41568627],\n",
       "         [0.3254902 , 0.4745098 , 0.41568627],\n",
       "         ...,\n",
       "         [0.60784314, 0.53333333, 0.51764706],\n",
       "         [0.60784314, 0.53333333, 0.50980392],\n",
       "         [0.62352941, 0.54901961, 0.5254902 ]],\n",
       "\n",
       "        [[0.3254902 , 0.46666667, 0.41176471],\n",
       "         [0.3254902 , 0.46666667, 0.41176471],\n",
       "         [0.3254902 , 0.4745098 , 0.41568627],\n",
       "         ...,\n",
       "         [0.61568627, 0.54901961, 0.52156863],\n",
       "         [0.60784314, 0.5372549 , 0.52156863],\n",
       "         [0.60784314, 0.5372549 , 0.52156863]],\n",
       "\n",
       "        [[0.32156863, 0.4627451 , 0.40784314],\n",
       "         [0.32156863, 0.4627451 , 0.40784314],\n",
       "         [0.31764706, 0.46666667, 0.41568627],\n",
       "         ...,\n",
       "         [0.61960784, 0.55294118, 0.5254902 ],\n",
       "         [0.61960784, 0.54901961, 0.53333333],\n",
       "         [0.61960784, 0.54901961, 0.53333333]]],\n",
       "\n",
       "\n",
       "       [[[0.2       , 0.2745098 , 0.33333333],\n",
       "         [0.19607843, 0.27058824, 0.32941176],\n",
       "         [0.19607843, 0.27058824, 0.32941176],\n",
       "         ...,\n",
       "         [0.14509804, 0.25882353, 0.29019608],\n",
       "         [0.15686275, 0.25098039, 0.29803922],\n",
       "         [0.15294118, 0.24705882, 0.29411765]],\n",
       "\n",
       "        [[0.19607843, 0.27058824, 0.32941176],\n",
       "         [0.19607843, 0.27058824, 0.32941176],\n",
       "         [0.19607843, 0.27058824, 0.32941176],\n",
       "         ...,\n",
       "         [0.14509804, 0.25882353, 0.29019608],\n",
       "         [0.15294118, 0.25882353, 0.30196078],\n",
       "         [0.14509804, 0.25098039, 0.29411765]],\n",
       "\n",
       "        [[0.19607843, 0.27058824, 0.32941176],\n",
       "         [0.19607843, 0.27058824, 0.32941176],\n",
       "         [0.19607843, 0.27058824, 0.32941176],\n",
       "         ...,\n",
       "         [0.14901961, 0.2627451 , 0.29411765],\n",
       "         [0.15294118, 0.26666667, 0.29803922],\n",
       "         [0.14901961, 0.2627451 , 0.29411765]],\n",
       "\n",
       "        ...,\n",
       "\n",
       "        [[0.2627451 , 0.34509804, 0.34901961],\n",
       "         [0.2627451 , 0.34509804, 0.34901961],\n",
       "         [0.24705882, 0.32941176, 0.34117647],\n",
       "         ...,\n",
       "         [0.1372549 , 0.24705882, 0.29019608],\n",
       "         [0.15294118, 0.2627451 , 0.30588235],\n",
       "         [0.14509804, 0.2627451 , 0.30196078]],\n",
       "\n",
       "        [[0.26666667, 0.34509804, 0.34901961],\n",
       "         [0.27058824, 0.34901961, 0.35294118],\n",
       "         [0.27058824, 0.34509804, 0.36078431],\n",
       "         ...,\n",
       "         [0.14117647, 0.25098039, 0.29411765],\n",
       "         [0.14509804, 0.25490196, 0.29803922],\n",
       "         [0.1372549 , 0.24705882, 0.29019608]],\n",
       "\n",
       "        [[0.26666667, 0.34509804, 0.34901961],\n",
       "         [0.26666667, 0.34509804, 0.34901961],\n",
       "         [0.2627451 , 0.3372549 , 0.35294118],\n",
       "         ...,\n",
       "         [0.14117647, 0.25098039, 0.29411765],\n",
       "         [0.14509804, 0.25098039, 0.29411765],\n",
       "         [0.16078431, 0.26666667, 0.30980392]]],\n",
       "\n",
       "\n",
       "       [[[0.30980392, 0.40784314, 0.48627451],\n",
       "         [0.30980392, 0.40784314, 0.48627451],\n",
       "         [0.30588235, 0.40392157, 0.48235294],\n",
       "         ...,\n",
       "         [0.32941176, 0.41568627, 0.46666667],\n",
       "         [0.37647059, 0.43921569, 0.49019608],\n",
       "         [0.39215686, 0.43921569, 0.48627451]],\n",
       "\n",
       "        [[0.33333333, 0.40392157, 0.48235294],\n",
       "         [0.32941176, 0.4       , 0.47843137],\n",
       "         [0.31764706, 0.4       , 0.4745098 ],\n",
       "         ...,\n",
       "         [0.32941176, 0.41568627, 0.46666667],\n",
       "         [0.37647059, 0.43921569, 0.49019608],\n",
       "         [0.39215686, 0.43921569, 0.48627451]],\n",
       "\n",
       "        [[0.40392157, 0.43137255, 0.50196078],\n",
       "         [0.4       , 0.43529412, 0.50196078],\n",
       "         [0.37254902, 0.41568627, 0.48627451],\n",
       "         ...,\n",
       "         [0.34509804, 0.41960784, 0.4745098 ],\n",
       "         [0.38039216, 0.44313725, 0.49411765],\n",
       "         [0.38431373, 0.43921569, 0.48235294]],\n",
       "\n",
       "        ...,\n",
       "\n",
       "        [[0.58039216, 0.52941176, 0.55686275],\n",
       "         [0.57647059, 0.53333333, 0.55686275],\n",
       "         [0.57254902, 0.52941176, 0.55294118],\n",
       "         ...,\n",
       "         [0.54117647, 0.51372549, 0.54509804],\n",
       "         [0.55686275, 0.51764706, 0.55294118],\n",
       "         [0.56078431, 0.51764706, 0.54901961]],\n",
       "\n",
       "        [[0.56078431, 0.51764706, 0.54901961],\n",
       "         [0.55294118, 0.51372549, 0.54509804],\n",
       "         [0.55686275, 0.51764706, 0.55294118],\n",
       "         ...,\n",
       "         [0.54509804, 0.50588235, 0.54117647],\n",
       "         [0.54509804, 0.50588235, 0.54117647],\n",
       "         [0.54117647, 0.50196078, 0.5372549 ]],\n",
       "\n",
       "        [[0.5372549 , 0.49803922, 0.52941176],\n",
       "         [0.5372549 , 0.49803922, 0.52941176],\n",
       "         [0.54901961, 0.50980392, 0.55294118],\n",
       "         ...,\n",
       "         [0.5372549 , 0.49803922, 0.53333333],\n",
       "         [0.5254902 , 0.48627451, 0.52156863],\n",
       "         [0.51372549, 0.4745098 , 0.50980392]]]])"
      ]
     },
     "execution_count": 83,
     "metadata": {},
     "output_type": "execute_result"
    }
   ],
   "source": [
    "x_test"
   ]
  },
  {
   "cell_type": "code",
   "execution_count": 103,
   "metadata": {},
   "outputs": [],
   "source": [
    "pred_test = [dic[np.argmax(p)] for p in prueba_test]"
   ]
  },
  {
   "cell_type": "code",
   "execution_count": 104,
   "metadata": {},
   "outputs": [],
   "source": [
    "suelos_test = [dic[np.argmax(s)] for s in y_test]"
   ]
  },
  {
   "cell_type": "code",
   "execution_count": 105,
   "metadata": {},
   "outputs": [],
   "source": [
    "s = suelos_test[:15]"
   ]
  },
  {
   "cell_type": "code",
   "execution_count": 106,
   "metadata": {},
   "outputs": [],
   "source": [
    "t = pred_test[:15]"
   ]
  },
  {
   "cell_type": "code",
   "execution_count": 107,
   "metadata": {},
   "outputs": [
    {
     "data": {
      "text/html": [
       "<div>\n",
       "<style scoped>\n",
       "    .dataframe tbody tr th:only-of-type {\n",
       "        vertical-align: middle;\n",
       "    }\n",
       "\n",
       "    .dataframe tbody tr th {\n",
       "        vertical-align: top;\n",
       "    }\n",
       "\n",
       "    .dataframe thead th {\n",
       "        text-align: right;\n",
       "    }\n",
       "</style>\n",
       "<table border=\"1\" class=\"dataframe\">\n",
       "  <thead>\n",
       "    <tr style=\"text-align: right;\">\n",
       "      <th></th>\n",
       "      <th>y_Actual</th>\n",
       "      <th>y_Predicted</th>\n",
       "    </tr>\n",
       "  </thead>\n",
       "  <tbody>\n",
       "    <tr>\n",
       "      <td>0</td>\n",
       "      <td>PermanentCrop</td>\n",
       "      <td>PermanentCrop</td>\n",
       "    </tr>\n",
       "    <tr>\n",
       "      <td>1</td>\n",
       "      <td>PermanentCrop</td>\n",
       "      <td>PermanentCrop</td>\n",
       "    </tr>\n",
       "    <tr>\n",
       "      <td>2</td>\n",
       "      <td>Industrial</td>\n",
       "      <td>Industrial</td>\n",
       "    </tr>\n",
       "    <tr>\n",
       "      <td>3</td>\n",
       "      <td>Forest</td>\n",
       "      <td>Forest</td>\n",
       "    </tr>\n",
       "    <tr>\n",
       "      <td>4</td>\n",
       "      <td>Forest</td>\n",
       "      <td>Pasture</td>\n",
       "    </tr>\n",
       "    <tr>\n",
       "      <td>5</td>\n",
       "      <td>River</td>\n",
       "      <td>River</td>\n",
       "    </tr>\n",
       "    <tr>\n",
       "      <td>6</td>\n",
       "      <td>Residential</td>\n",
       "      <td>Residential</td>\n",
       "    </tr>\n",
       "    <tr>\n",
       "      <td>7</td>\n",
       "      <td>Residential</td>\n",
       "      <td>Residential</td>\n",
       "    </tr>\n",
       "    <tr>\n",
       "      <td>8</td>\n",
       "      <td>AnnualCrop</td>\n",
       "      <td>Pasture</td>\n",
       "    </tr>\n",
       "    <tr>\n",
       "      <td>9</td>\n",
       "      <td>Forest</td>\n",
       "      <td>Forest</td>\n",
       "    </tr>\n",
       "    <tr>\n",
       "      <td>10</td>\n",
       "      <td>Forest</td>\n",
       "      <td>Pasture</td>\n",
       "    </tr>\n",
       "    <tr>\n",
       "      <td>11</td>\n",
       "      <td>AnnualCrop</td>\n",
       "      <td>AnnualCrop</td>\n",
       "    </tr>\n",
       "    <tr>\n",
       "      <td>12</td>\n",
       "      <td>Highway</td>\n",
       "      <td>Highway</td>\n",
       "    </tr>\n",
       "    <tr>\n",
       "      <td>13</td>\n",
       "      <td>Residential</td>\n",
       "      <td>Residential</td>\n",
       "    </tr>\n",
       "    <tr>\n",
       "      <td>14</td>\n",
       "      <td>SeaLake</td>\n",
       "      <td>SeaLake</td>\n",
       "    </tr>\n",
       "  </tbody>\n",
       "</table>\n",
       "</div>"
      ],
      "text/plain": [
       "         y_Actual    y_Predicted\n",
       "0   PermanentCrop  PermanentCrop\n",
       "1   PermanentCrop  PermanentCrop\n",
       "2      Industrial     Industrial\n",
       "3          Forest         Forest\n",
       "4          Forest        Pasture\n",
       "5           River          River\n",
       "6     Residential    Residential\n",
       "7     Residential    Residential\n",
       "8      AnnualCrop        Pasture\n",
       "9          Forest         Forest\n",
       "10         Forest        Pasture\n",
       "11     AnnualCrop     AnnualCrop\n",
       "12        Highway        Highway\n",
       "13    Residential    Residential\n",
       "14        SeaLake        SeaLake"
      ]
     },
     "execution_count": 107,
     "metadata": {},
     "output_type": "execute_result"
    }
   ],
   "source": [
    "import pandas as pd\n",
    "\n",
    "d = {'y_Actual': s,\n",
    "        'y_Predicted': t}\n",
    "\n",
    "dat = pd.DataFrame(data=d)\n",
    "dat"
   ]
  },
  {
   "cell_type": "code",
   "execution_count": 108,
   "metadata": {},
   "outputs": [
    {
     "data": {
      "text/plain": [
       "array([[1, 0, 0, 0, 1, 0, 0, 0, 0],\n",
       "       [0, 2, 0, 0, 2, 0, 0, 0, 0],\n",
       "       [0, 0, 1, 0, 0, 0, 0, 0, 0],\n",
       "       [0, 0, 0, 1, 0, 0, 0, 0, 0],\n",
       "       [0, 0, 0, 0, 0, 0, 0, 0, 0],\n",
       "       [0, 0, 0, 0, 0, 2, 0, 0, 0],\n",
       "       [0, 0, 0, 0, 0, 0, 3, 0, 0],\n",
       "       [0, 0, 0, 0, 0, 0, 0, 1, 0],\n",
       "       [0, 0, 0, 0, 0, 0, 0, 0, 1]], dtype=int64)"
      ]
     },
     "execution_count": 108,
     "metadata": {},
     "output_type": "execute_result"
    }
   ],
   "source": [
    "from sklearn.metrics import confusion_matrix\n",
    "confusion_matrix(s, t)"
   ]
  },
  {
   "cell_type": "code",
   "execution_count": 109,
   "metadata": {},
   "outputs": [],
   "source": [
    "my_image_resized = plt.imread(\"test_sea.jpg\")"
   ]
  },
  {
   "cell_type": "code",
   "execution_count": 110,
   "metadata": {},
   "outputs": [],
   "source": [
    "import numpy as np\n",
    "probabilities = model.predict(np.array([my_image_resized,]))"
   ]
  },
  {
   "cell_type": "code",
   "execution_count": 111,
   "metadata": {},
   "outputs": [
    {
     "data": {
      "text/plain": [
       "array([[0., 0., 0., 0., 1., 0., 0., 0., 0., 0.]], dtype=float32)"
      ]
     },
     "execution_count": 111,
     "metadata": {},
     "output_type": "execute_result"
    }
   ],
   "source": [
    "probabilities"
   ]
  },
  {
   "cell_type": "code",
   "execution_count": 112,
   "metadata": {},
   "outputs": [],
   "source": [
    "number_to_class = ['AnnualCrop', 'Forest', 'HerbaceousVegetation', 'Highway', 'Industrial',\n",
    "                   'Pasture', 'PermanentCrop', 'Residential', 'river', 'seaLake']"
   ]
  },
  {
   "cell_type": "code",
   "execution_count": 101,
   "metadata": {},
   "outputs": [],
   "source": [
    "index = np.argsort(probabilities[0,:])"
   ]
  },
  {
   "cell_type": "code",
   "execution_count": 102,
   "metadata": {},
   "outputs": [
    {
     "name": "stdout",
     "output_type": "stream",
     "text": [
      "Most likely class: Industrial -- Probability: 1.0\n",
      "Second most likely class: seaLake -- Probability: 0.0\n",
      "Third most likely class: river -- Probability: 0.0\n",
      "Fourth most likely class: Residential -- Probability: 0.0\n",
      "Fifth most likely class: PermanentCrop -- Probability: 0.0\n",
      "sixth most likely class: Industrial -- Probability: 0.0\n",
      "seventh most likely class: seaLake -- Probability: 0.0\n",
      "eight most likely class: river -- Probability: 0.0\n",
      "nineth most likely class: Residential -- Probability: 0.0\n",
      "tenth most likely class: PermanentCrop -- Probability: 0.0\n"
     ]
    }
   ],
   "source": [
    "print(\"Most likely class:\", number_to_class[index[9]], \"-- Probability:\", probabilities[0,index[9]])\n",
    "print(\"Second most likely class:\", number_to_class[index[8]], \"-- Probability:\", probabilities[0,index[8]])\n",
    "print(\"Third most likely class:\", number_to_class[index[7]], \"-- Probability:\", probabilities[0,index[7]])\n",
    "print(\"Fourth most likely class:\", number_to_class[index[6]], \"-- Probability:\", probabilities[0,index[6]])\n",
    "print(\"Fifth most likely class:\", number_to_class[index[5]], \"-- Probability:\", probabilities[0,index[5]])\n",
    "print(\"sixth most likely class:\", number_to_class[index[9]], \"-- Probability:\", probabilities[0,index[4]])\n",
    "print(\"seventh most likely class:\", number_to_class[index[8]], \"-- Probability:\", probabilities[0,index[3]])\n",
    "print(\"eight most likely class:\", number_to_class[index[7]], \"-- Probability:\", probabilities[0,index[2]])\n",
    "print(\"nineth most likely class:\", number_to_class[index[6]], \"-- Probability:\", probabilities[0,index[1]])\n",
    "print(\"tenth most likely class:\", number_to_class[index[5]], \"-- Probability:\", probabilities[0,index[0]])"
   ]
  },
  {
   "cell_type": "code",
   "execution_count": null,
   "metadata": {},
   "outputs": [],
   "source": []
  }
 ],
 "metadata": {
  "kernelspec": {
   "display_name": "Python 3",
   "language": "python",
   "name": "python3"
  },
  "language_info": {
   "codemirror_mode": {
    "name": "ipython",
    "version": 3
   },
   "file_extension": ".py",
   "mimetype": "text/x-python",
   "name": "python",
   "nbconvert_exporter": "python",
   "pygments_lexer": "ipython3",
   "version": "3.6.8"
  }
 },
 "nbformat": 4,
 "nbformat_minor": 2
}
