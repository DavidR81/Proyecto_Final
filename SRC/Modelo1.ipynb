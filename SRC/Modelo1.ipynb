{
 "cells": [
  {
   "cell_type": "code",
   "execution_count": 44,
   "metadata": {},
   "outputs": [],
   "source": [
    "import os\n",
    "import numpy as np\n",
    "from PIL import Image\n",
    "from sklearn.model_selection import train_test_split\n",
    "from keras.utils import to_categorical\n",
    "from keras.models import Sequential\n",
    "#from keras.layers import Dense, Conv2D, Deconvolution2D, MaxPooling2D, Flatten\n",
    "from keras import layers as L\n",
    "from keras.layers.core import Dense, Dropout, Flatten\n",
    "from keras.layers.convolutional import Conv2D, MaxPooling2D, SeparableConv2D"
   ]
  },
  {
   "cell_type": "code",
   "execution_count": 45,
   "metadata": {},
   "outputs": [
    {
     "data": {
      "text/plain": [
       "'C:\\\\Users\\\\david\\\\Desktop\\\\DATAMAD-0819\\\\laboratorios\\\\Proyecto_Final\\\\SRC'"
      ]
     },
     "execution_count": 45,
     "metadata": {},
     "output_type": "execute_result"
    }
   ],
   "source": [
    "pwd"
   ]
  },
  {
   "cell_type": "code",
   "execution_count": 46,
   "metadata": {},
   "outputs": [],
   "source": [
    "path = '../Euro_Sat/'"
   ]
  },
  {
   "cell_type": "code",
   "execution_count": 47,
   "metadata": {},
   "outputs": [],
   "source": [
    "dic = {}\n",
    "entrada = []\n",
    "salida = []\n",
    "i = 0\n",
    "\n",
    "for ele in os.listdir(path):\n",
    "    if os.path.isdir(path+ele):\n",
    "        for file in os.listdir(path+ele):\n",
    "            im = Image.open(os.path.join(path,ele,file))\n",
    "            im_array = np.array(im)\n",
    "            entrada.append(im_array)\n",
    "            salida.append(i)\n",
    "        dic[i] = ele\n",
    "        i += 1\n"
   ]
  },
  {
   "cell_type": "code",
   "execution_count": 56,
   "metadata": {},
   "outputs": [],
   "source": [
    "#from sklearn import preprocessing"
   ]
  },
  {
   "cell_type": "code",
   "execution_count": 60,
   "metadata": {},
   "outputs": [
    {
     "name": "stdout",
     "output_type": "stream",
     "text": [
      "LabelEncoder()\n"
     ]
    },
    {
     "data": {
      "text/plain": [
       "['AnnualCrop',\n",
       " 'Forest',\n",
       " 'HerbaceousVegetation',\n",
       " 'Highway',\n",
       " 'Industrial',\n",
       " 'Pasture',\n",
       " 'PermanentCrop',\n",
       " 'Residential',\n",
       " 'river',\n",
       " 'seaLake']"
      ]
     },
     "execution_count": 60,
     "metadata": {},
     "output_type": "execute_result"
    }
   ],
   "source": [
    "#le = preprocessing.LabelEncoder()\n",
    "#print(le.fit([\"AnnualCrop\", \"Forest\", \"HerbaceousVegetation\", \"Highway\", \"Industrial\",\n",
    "        \"Pasture\", \"PermanentCrop\", \"Residential\", \"river\", \"seaLake\"]))\n",
    "\n",
    "#list(le.classes_)\n",
    "\n",
    "\n",
    "\n",
    "#list(le.inverse_transform([2, 2, 1]))\n"
   ]
  },
  {
   "cell_type": "code",
   "execution_count": 71,
   "metadata": {},
   "outputs": [
    {
     "name": "stdout",
     "output_type": "stream",
     "text": [
      "[0 1 2 3 4 5 6 7 8 9]\n"
     ]
    }
   ],
   "source": [
    "#print(le.transform([\"AnnualCrop\", \"Forest\", \"HerbaceousVegetation\", \"Highway\", \"Industrial\",\n",
    "        \"Pasture\", \"PermanentCrop\", \"Residential\", \"river\", \"seaLake\"]))"
   ]
  },
  {
   "cell_type": "code",
   "execution_count": 66,
   "metadata": {},
   "outputs": [],
   "source": [
    "#pru = Image.open(\"../SRC/test2.jpg\")\n",
    "#pru_array = np.array(im)\n",
    "#test_image = np.array([pru_array])"
   ]
  },
  {
   "cell_type": "code",
   "execution_count": 67,
   "metadata": {},
   "outputs": [
    {
     "data": {
      "text/plain": [
       "array([[0., 0., 0., 0., 1., 0., 0., 0., 0., 0.]], dtype=float32)"
      ]
     },
     "execution_count": 67,
     "metadata": {},
     "output_type": "execute_result"
    }
   ],
   "source": [
    "#model.predict(test_image)"
   ]
  },
  {
   "cell_type": "code",
   "execution_count": 48,
   "metadata": {},
   "outputs": [],
   "source": [
    "clases_salida = to_categorical(salida)"
   ]
  },
  {
   "cell_type": "code",
   "execution_count": 49,
   "metadata": {},
   "outputs": [],
   "source": [
    "entrada = np.array(entrada)\n",
    "entrada = entrada/255"
   ]
  },
  {
   "cell_type": "code",
   "execution_count": 50,
   "metadata": {},
   "outputs": [],
   "source": [
    "x_train, x_test, y_train, y_test = train_test_split(entrada, clases_salida, test_size=0.2, shuffle=True)"
   ]
  },
  {
   "cell_type": "code",
   "execution_count": 51,
   "metadata": {},
   "outputs": [
    {
     "name": "stdout",
     "output_type": "stream",
     "text": [
      "Model: \"sequential_4\"\n",
      "_________________________________________________________________\n",
      "Layer (type)                 Output Shape              Param #   \n",
      "=================================================================\n",
      "conv2d_10 (Conv2D)           (None, 62, 62, 16)        448       \n",
      "_________________________________________________________________\n",
      "max_pooling2d_7 (MaxPooling2 (None, 31, 31, 16)        0         \n",
      "_________________________________________________________________\n",
      "conv2d_11 (Conv2D)           (None, 29, 29, 32)        4640      \n",
      "_________________________________________________________________\n",
      "max_pooling2d_8 (MaxPooling2 (None, 14, 14, 32)        0         \n",
      "_________________________________________________________________\n",
      "conv2d_12 (Conv2D)           (None, 12, 12, 64)        18496     \n",
      "_________________________________________________________________\n",
      "flatten_4 (Flatten)          (None, 9216)              0         \n",
      "_________________________________________________________________\n",
      "dense_7 (Dense)              (None, 50)                460850    \n",
      "_________________________________________________________________\n",
      "dense_8 (Dense)              (None, 10)                510       \n",
      "=================================================================\n",
      "Total params: 484,944\n",
      "Trainable params: 484,944\n",
      "Non-trainable params: 0\n",
      "_________________________________________________________________\n"
     ]
    }
   ],
   "source": [
    "in_shape = x_train[0,:,:,:].shape\n",
    "\n",
    "model = Sequential()\n",
    "\n",
    "model.add(Conv2D(16, kernel_size=3, activation='relu', input_shape=in_shape))\n",
    "model.add(MaxPooling2D(pool_size=(2,2)))\n",
    "model.add(Conv2D(32, kernel_size=3, activation='relu'))\n",
    "model.add(MaxPooling2D(pool_size=(2,2)))\n",
    "model.add(Conv2D(64, kernel_size=3, activation='relu'))\n",
    "model.add(Flatten())\n",
    "model.add(Dense(50))\n",
    "model.add(Dense(len(dic), activation='softmax'))\n",
    "model.summary()"
   ]
  },
  {
   "cell_type": "code",
   "execution_count": 52,
   "metadata": {},
   "outputs": [],
   "source": [
    "model.compile(optimizer='adam', loss='categorical_crossentropy', metrics=['accuracy'])"
   ]
  },
  {
   "cell_type": "code",
   "execution_count": 53,
   "metadata": {},
   "outputs": [
    {
     "name": "stdout",
     "output_type": "stream",
     "text": [
      "Train on 21600 samples, validate on 5400 samples\n",
      "Epoch 1/25\n",
      "21600/21600 [==============================] - 66s 3ms/step - loss: 1.1531 - accuracy: 0.5756 - val_loss: 0.8646 - val_accuracy: 0.6891\n",
      "Epoch 2/25\n",
      "21600/21600 [==============================] - 70s 3ms/step - loss: 0.7352 - accuracy: 0.7356 - val_loss: 0.6992 - val_accuracy: 0.7567\n",
      "Epoch 3/25\n",
      "21600/21600 [==============================] - 68s 3ms/step - loss: 0.6384 - accuracy: 0.7710 - val_loss: 0.5653 - val_accuracy: 0.7969\n",
      "Epoch 4/25\n",
      "21600/21600 [==============================] - 68s 3ms/step - loss: 0.5457 - accuracy: 0.8030 - val_loss: 0.5906 - val_accuracy: 0.7880\n",
      "Epoch 5/25\n",
      "21600/21600 [==============================] - 68s 3ms/step - loss: 0.4821 - accuracy: 0.8270 - val_loss: 0.5450 - val_accuracy: 0.8065\n",
      "Epoch 6/25\n",
      "21600/21600 [==============================] - 68s 3ms/step - loss: 0.4347 - accuracy: 0.8438 - val_loss: 0.5214 - val_accuracy: 0.8148\n",
      "Epoch 7/25\n",
      "21600/21600 [==============================] - 68s 3ms/step - loss: 0.3720 - accuracy: 0.8666 - val_loss: 0.4798 - val_accuracy: 0.8402\n",
      "Epoch 8/25\n",
      "21600/21600 [==============================] - 68s 3ms/step - loss: 0.3281 - accuracy: 0.8829 - val_loss: 0.5564 - val_accuracy: 0.8107\n",
      "Epoch 9/25\n",
      "21600/21600 [==============================] - 67s 3ms/step - loss: 0.2876 - accuracy: 0.9002 - val_loss: 0.4816 - val_accuracy: 0.8426\n",
      "Epoch 10/25\n",
      "21600/21600 [==============================] - 67s 3ms/step - loss: 0.2675 - accuracy: 0.9053 - val_loss: 0.5371 - val_accuracy: 0.8304\n",
      "Epoch 11/25\n",
      "21600/21600 [==============================] - 68s 3ms/step - loss: 0.2355 - accuracy: 0.9183 - val_loss: 0.5484 - val_accuracy: 0.8293\n",
      "Epoch 12/25\n",
      "21600/21600 [==============================] - 67s 3ms/step - loss: 0.2010 - accuracy: 0.9298 - val_loss: 0.6113 - val_accuracy: 0.8294\n",
      "Epoch 13/25\n",
      "21600/21600 [==============================] - 67s 3ms/step - loss: 0.1830 - accuracy: 0.9361 - val_loss: 0.5857 - val_accuracy: 0.8343\n",
      "Epoch 14/25\n",
      "21600/21600 [==============================] - 1119s 52ms/step - loss: 0.1572 - accuracy: 0.9458 - val_loss: 0.6412 - val_accuracy: 0.8356\n",
      "Epoch 15/25\n",
      "21600/21600 [==============================] - 45s 2ms/step - loss: 0.1358 - accuracy: 0.9532 - val_loss: 0.7802 - val_accuracy: 0.8139\n",
      "Epoch 16/25\n",
      "21600/21600 [==============================] - 45s 2ms/step - loss: 0.1350 - accuracy: 0.9540 - val_loss: 0.7418 - val_accuracy: 0.8250\n",
      "Epoch 17/25\n",
      "21600/21600 [==============================] - 45s 2ms/step - loss: 0.1268 - accuracy: 0.9578 - val_loss: 0.8070 - val_accuracy: 0.8259\n",
      "Epoch 18/25\n",
      "21600/21600 [==============================] - 45s 2ms/step - loss: 0.1029 - accuracy: 0.9652 - val_loss: 0.8434 - val_accuracy: 0.8285\n",
      "Epoch 19/25\n",
      "21600/21600 [==============================] - 45s 2ms/step - loss: 0.0979 - accuracy: 0.9662 - val_loss: 0.9335 - val_accuracy: 0.8100\n",
      "Epoch 20/25\n",
      "21600/21600 [==============================] - 45s 2ms/step - loss: 0.0943 - accuracy: 0.9685 - val_loss: 0.8303 - val_accuracy: 0.8437\n",
      "Epoch 21/25\n",
      "21600/21600 [==============================] - 46s 2ms/step - loss: 0.0897 - accuracy: 0.9701 - val_loss: 0.9175 - val_accuracy: 0.8272\n",
      "Epoch 22/25\n",
      "21600/21600 [==============================] - 45s 2ms/step - loss: 0.0758 - accuracy: 0.9750 - val_loss: 0.9680 - val_accuracy: 0.8126\n",
      "Epoch 23/25\n",
      "21600/21600 [==============================] - 45s 2ms/step - loss: 0.0796 - accuracy: 0.9731 - val_loss: 1.0693 - val_accuracy: 0.8113\n",
      "Epoch 24/25\n",
      "21600/21600 [==============================] - 45s 2ms/step - loss: 0.0722 - accuracy: 0.9774 - val_loss: 0.9704 - val_accuracy: 0.8235\n",
      "Epoch 25/25\n",
      "21600/21600 [==============================] - 45s 2ms/step - loss: 0.0676 - accuracy: 0.9781 - val_loss: 1.0739 - val_accuracy: 0.8224\n"
     ]
    },
    {
     "data": {
      "text/plain": [
       "<keras.callbacks.callbacks.History at 0x12caca559e8>"
      ]
     },
     "execution_count": 53,
     "metadata": {},
     "output_type": "execute_result"
    }
   ],
   "source": [
    "model.fit(x_train, y_train, validation_data=(x_test, y_test), epochs=25)"
   ]
  },
  {
   "cell_type": "code",
   "execution_count": 54,
   "metadata": {},
   "outputs": [
    {
     "name": "stdout",
     "output_type": "stream",
     "text": [
      "accuracy: 98.60%\n"
     ]
    }
   ],
   "source": [
    "scores = model.evaluate(x_train, y_train, verbose=0)\n",
    "print(\"%s: %.2f%%\" % (model.metrics_names[1], scores[1]*100))"
   ]
  },
  {
   "cell_type": "code",
   "execution_count": 55,
   "metadata": {},
   "outputs": [
    {
     "name": "stdout",
     "output_type": "stream",
     "text": [
      "Saved model to disk\n"
     ]
    }
   ],
   "source": [
    "model_json = model.to_json()\n",
    "with open(\"model1.json\", \"w\") as json_file:\n",
    "    json_file.write(model_json)\n",
    "# serialize weights to HDF5\n",
    "model.save_weights(\"model1.h5\")\n",
    "print(\"Saved model to disk\")"
   ]
  },
  {
   "cell_type": "code",
   "execution_count": 56,
   "metadata": {},
   "outputs": [],
   "source": [
    "prueba_test = model.predict(x_test)"
   ]
  },
  {
   "cell_type": "code",
   "execution_count": 66,
   "metadata": {},
   "outputs": [
    {
     "name": "stdout",
     "output_type": "stream",
     "text": [
      "0.0\n",
      "0.0\n",
      "0.98\n",
      "0.0\n",
      "0.0\n",
      "0.0\n",
      "0.0\n",
      "0.02\n",
      "0.0\n",
      "0.0\n"
     ]
    }
   ],
   "source": [
    "for prueba in prueba_test[19]:\n",
    "    print(round(prueba,2))"
   ]
  },
  {
   "cell_type": "code",
   "execution_count": 67,
   "metadata": {},
   "outputs": [],
   "source": [
    "pred_test = [dic[np.argmax(p)] for p in prueba_test]"
   ]
  },
  {
   "cell_type": "code",
   "execution_count": 68,
   "metadata": {},
   "outputs": [],
   "source": [
    "suelos_test = [dic[np.argmax(s)] for s in y_test]"
   ]
  },
  {
   "cell_type": "code",
   "execution_count": 69,
   "metadata": {},
   "outputs": [],
   "source": [
    "s = suelos_test[50:90]"
   ]
  },
  {
   "cell_type": "code",
   "execution_count": 70,
   "metadata": {},
   "outputs": [],
   "source": [
    "t = pred_test[50:90]"
   ]
  },
  {
   "cell_type": "code",
   "execution_count": 76,
   "metadata": {},
   "outputs": [
    {
     "data": {
      "text/html": [
       "<div>\n",
       "<style scoped>\n",
       "    .dataframe tbody tr th:only-of-type {\n",
       "        vertical-align: middle;\n",
       "    }\n",
       "\n",
       "    .dataframe tbody tr th {\n",
       "        vertical-align: top;\n",
       "    }\n",
       "\n",
       "    .dataframe thead th {\n",
       "        text-align: right;\n",
       "    }\n",
       "</style>\n",
       "<table border=\"1\" class=\"dataframe\">\n",
       "  <thead>\n",
       "    <tr style=\"text-align: right;\">\n",
       "      <th></th>\n",
       "      <th>y_Actual</th>\n",
       "      <th>y_Predicted</th>\n",
       "    </tr>\n",
       "  </thead>\n",
       "  <tbody>\n",
       "    <tr>\n",
       "      <td>0</td>\n",
       "      <td>HerbaceousVegetation</td>\n",
       "      <td>HerbaceousVegetation</td>\n",
       "    </tr>\n",
       "    <tr>\n",
       "      <td>1</td>\n",
       "      <td>PermanentCrop</td>\n",
       "      <td>River</td>\n",
       "    </tr>\n",
       "    <tr>\n",
       "      <td>2</td>\n",
       "      <td>Industrial</td>\n",
       "      <td>Industrial</td>\n",
       "    </tr>\n",
       "    <tr>\n",
       "      <td>3</td>\n",
       "      <td>HerbaceousVegetation</td>\n",
       "      <td>HerbaceousVegetation</td>\n",
       "    </tr>\n",
       "    <tr>\n",
       "      <td>4</td>\n",
       "      <td>Highway</td>\n",
       "      <td>Highway</td>\n",
       "    </tr>\n",
       "    <tr>\n",
       "      <td>5</td>\n",
       "      <td>PermanentCrop</td>\n",
       "      <td>Highway</td>\n",
       "    </tr>\n",
       "    <tr>\n",
       "      <td>6</td>\n",
       "      <td>HerbaceousVegetation</td>\n",
       "      <td>HerbaceousVegetation</td>\n",
       "    </tr>\n",
       "    <tr>\n",
       "      <td>7</td>\n",
       "      <td>River</td>\n",
       "      <td>River</td>\n",
       "    </tr>\n",
       "    <tr>\n",
       "      <td>8</td>\n",
       "      <td>Forest</td>\n",
       "      <td>Forest</td>\n",
       "    </tr>\n",
       "    <tr>\n",
       "      <td>9</td>\n",
       "      <td>Forest</td>\n",
       "      <td>Forest</td>\n",
       "    </tr>\n",
       "    <tr>\n",
       "      <td>10</td>\n",
       "      <td>AnnualCrop</td>\n",
       "      <td>AnnualCrop</td>\n",
       "    </tr>\n",
       "    <tr>\n",
       "      <td>11</td>\n",
       "      <td>Industrial</td>\n",
       "      <td>Industrial</td>\n",
       "    </tr>\n",
       "    <tr>\n",
       "      <td>12</td>\n",
       "      <td>AnnualCrop</td>\n",
       "      <td>AnnualCrop</td>\n",
       "    </tr>\n",
       "    <tr>\n",
       "      <td>13</td>\n",
       "      <td>AnnualCrop</td>\n",
       "      <td>Highway</td>\n",
       "    </tr>\n",
       "    <tr>\n",
       "      <td>14</td>\n",
       "      <td>HerbaceousVegetation</td>\n",
       "      <td>HerbaceousVegetation</td>\n",
       "    </tr>\n",
       "    <tr>\n",
       "      <td>15</td>\n",
       "      <td>SeaLake</td>\n",
       "      <td>SeaLake</td>\n",
       "    </tr>\n",
       "    <tr>\n",
       "      <td>16</td>\n",
       "      <td>Residential</td>\n",
       "      <td>Residential</td>\n",
       "    </tr>\n",
       "    <tr>\n",
       "      <td>17</td>\n",
       "      <td>SeaLake</td>\n",
       "      <td>SeaLake</td>\n",
       "    </tr>\n",
       "    <tr>\n",
       "      <td>18</td>\n",
       "      <td>Residential</td>\n",
       "      <td>Residential</td>\n",
       "    </tr>\n",
       "    <tr>\n",
       "      <td>19</td>\n",
       "      <td>AnnualCrop</td>\n",
       "      <td>AnnualCrop</td>\n",
       "    </tr>\n",
       "    <tr>\n",
       "      <td>20</td>\n",
       "      <td>HerbaceousVegetation</td>\n",
       "      <td>HerbaceousVegetation</td>\n",
       "    </tr>\n",
       "    <tr>\n",
       "      <td>21</td>\n",
       "      <td>Forest</td>\n",
       "      <td>Pasture</td>\n",
       "    </tr>\n",
       "    <tr>\n",
       "      <td>22</td>\n",
       "      <td>Industrial</td>\n",
       "      <td>Industrial</td>\n",
       "    </tr>\n",
       "    <tr>\n",
       "      <td>23</td>\n",
       "      <td>PermanentCrop</td>\n",
       "      <td>AnnualCrop</td>\n",
       "    </tr>\n",
       "    <tr>\n",
       "      <td>24</td>\n",
       "      <td>SeaLake</td>\n",
       "      <td>SeaLake</td>\n",
       "    </tr>\n",
       "    <tr>\n",
       "      <td>25</td>\n",
       "      <td>SeaLake</td>\n",
       "      <td>SeaLake</td>\n",
       "    </tr>\n",
       "    <tr>\n",
       "      <td>26</td>\n",
       "      <td>Forest</td>\n",
       "      <td>Forest</td>\n",
       "    </tr>\n",
       "    <tr>\n",
       "      <td>27</td>\n",
       "      <td>PermanentCrop</td>\n",
       "      <td>PermanentCrop</td>\n",
       "    </tr>\n",
       "    <tr>\n",
       "      <td>28</td>\n",
       "      <td>Pasture</td>\n",
       "      <td>Pasture</td>\n",
       "    </tr>\n",
       "    <tr>\n",
       "      <td>29</td>\n",
       "      <td>Industrial</td>\n",
       "      <td>Industrial</td>\n",
       "    </tr>\n",
       "    <tr>\n",
       "      <td>30</td>\n",
       "      <td>HerbaceousVegetation</td>\n",
       "      <td>HerbaceousVegetation</td>\n",
       "    </tr>\n",
       "    <tr>\n",
       "      <td>31</td>\n",
       "      <td>Residential</td>\n",
       "      <td>Residential</td>\n",
       "    </tr>\n",
       "    <tr>\n",
       "      <td>32</td>\n",
       "      <td>Industrial</td>\n",
       "      <td>Industrial</td>\n",
       "    </tr>\n",
       "    <tr>\n",
       "      <td>33</td>\n",
       "      <td>AnnualCrop</td>\n",
       "      <td>AnnualCrop</td>\n",
       "    </tr>\n",
       "    <tr>\n",
       "      <td>34</td>\n",
       "      <td>Pasture</td>\n",
       "      <td>Pasture</td>\n",
       "    </tr>\n",
       "    <tr>\n",
       "      <td>35</td>\n",
       "      <td>Forest</td>\n",
       "      <td>Forest</td>\n",
       "    </tr>\n",
       "    <tr>\n",
       "      <td>36</td>\n",
       "      <td>HerbaceousVegetation</td>\n",
       "      <td>HerbaceousVegetation</td>\n",
       "    </tr>\n",
       "    <tr>\n",
       "      <td>37</td>\n",
       "      <td>Forest</td>\n",
       "      <td>Forest</td>\n",
       "    </tr>\n",
       "    <tr>\n",
       "      <td>38</td>\n",
       "      <td>Pasture</td>\n",
       "      <td>Forest</td>\n",
       "    </tr>\n",
       "    <tr>\n",
       "      <td>39</td>\n",
       "      <td>AnnualCrop</td>\n",
       "      <td>PermanentCrop</td>\n",
       "    </tr>\n",
       "  </tbody>\n",
       "</table>\n",
       "</div>"
      ],
      "text/plain": [
       "                y_Actual           y_Predicted\n",
       "0   HerbaceousVegetation  HerbaceousVegetation\n",
       "1          PermanentCrop                 River\n",
       "2             Industrial            Industrial\n",
       "3   HerbaceousVegetation  HerbaceousVegetation\n",
       "4                Highway               Highway\n",
       "5          PermanentCrop               Highway\n",
       "6   HerbaceousVegetation  HerbaceousVegetation\n",
       "7                  River                 River\n",
       "8                 Forest                Forest\n",
       "9                 Forest                Forest\n",
       "10            AnnualCrop            AnnualCrop\n",
       "11            Industrial            Industrial\n",
       "12            AnnualCrop            AnnualCrop\n",
       "13            AnnualCrop               Highway\n",
       "14  HerbaceousVegetation  HerbaceousVegetation\n",
       "15               SeaLake               SeaLake\n",
       "16           Residential           Residential\n",
       "17               SeaLake               SeaLake\n",
       "18           Residential           Residential\n",
       "19            AnnualCrop            AnnualCrop\n",
       "20  HerbaceousVegetation  HerbaceousVegetation\n",
       "21                Forest               Pasture\n",
       "22            Industrial            Industrial\n",
       "23         PermanentCrop            AnnualCrop\n",
       "24               SeaLake               SeaLake\n",
       "25               SeaLake               SeaLake\n",
       "26                Forest                Forest\n",
       "27         PermanentCrop         PermanentCrop\n",
       "28               Pasture               Pasture\n",
       "29            Industrial            Industrial\n",
       "30  HerbaceousVegetation  HerbaceousVegetation\n",
       "31           Residential           Residential\n",
       "32            Industrial            Industrial\n",
       "33            AnnualCrop            AnnualCrop\n",
       "34               Pasture               Pasture\n",
       "35                Forest                Forest\n",
       "36  HerbaceousVegetation  HerbaceousVegetation\n",
       "37                Forest                Forest\n",
       "38               Pasture                Forest\n",
       "39            AnnualCrop         PermanentCrop"
      ]
     },
     "execution_count": 76,
     "metadata": {},
     "output_type": "execute_result"
    }
   ],
   "source": [
    "import pandas as pd\n",
    "\n",
    "d = {'y_Actual': s,\n",
    "        'y_Predicted': t}\n",
    "\n",
    "dat = pd.DataFrame(data=d)\n",
    "dat\n"
   ]
  },
  {
   "cell_type": "code",
   "execution_count": 65,
   "metadata": {},
   "outputs": [
    {
     "data": {
      "text/plain": [
       "array([[4, 0, 0, 1, 0, 0, 1, 0, 0, 0],\n",
       "       [0, 5, 0, 0, 0, 1, 0, 0, 0, 0],\n",
       "       [0, 0, 7, 0, 0, 0, 0, 0, 0, 0],\n",
       "       [0, 0, 0, 1, 0, 0, 0, 0, 0, 0],\n",
       "       [0, 0, 0, 0, 5, 0, 0, 0, 0, 0],\n",
       "       [0, 1, 0, 0, 0, 2, 0, 0, 0, 0],\n",
       "       [1, 0, 0, 1, 0, 0, 1, 0, 1, 0],\n",
       "       [0, 0, 0, 0, 0, 0, 0, 3, 0, 0],\n",
       "       [0, 0, 0, 0, 0, 0, 0, 0, 1, 0],\n",
       "       [0, 0, 0, 0, 0, 0, 0, 0, 0, 4]], dtype=int64)"
      ]
     },
     "execution_count": 65,
     "metadata": {},
     "output_type": "execute_result"
    }
   ],
   "source": [
    "from sklearn.metrics import confusion_matrix\n",
    "confusion_matrix(s, t)"
   ]
  },
  {
   "cell_type": "code",
   "execution_count": 30,
   "metadata": {},
   "outputs": [],
   "source": [
    "import matplotlib.pyplot as plt\n",
    "my_image_resized = plt.imread(\"../Pruebas/test_sea.jpg\")"
   ]
  },
  {
   "cell_type": "code",
   "execution_count": 31,
   "metadata": {},
   "outputs": [],
   "source": [
    "import numpy as np\n",
    "probabilities = model.predict(np.array([my_image_resized,]))"
   ]
  },
  {
   "cell_type": "code",
   "execution_count": 32,
   "metadata": {},
   "outputs": [
    {
     "data": {
      "text/plain": [
       "array([[0., 0., 0., 0., 1., 0., 0., 0., 0., 0.]], dtype=float32)"
      ]
     },
     "execution_count": 32,
     "metadata": {},
     "output_type": "execute_result"
    }
   ],
   "source": [
    "probabilities"
   ]
  },
  {
   "cell_type": "code",
   "execution_count": 33,
   "metadata": {},
   "outputs": [],
   "source": [
    "number_to_class = ['AnnualCrop', 'Forest', 'HerbaceousVegetation', 'Highway', 'Industrial',\n",
    "                   'Pasture', 'PermanentCrop', 'Residential', 'river', 'seaLake']"
   ]
  },
  {
   "cell_type": "code",
   "execution_count": 34,
   "metadata": {},
   "outputs": [],
   "source": [
    "index = np.argsort(probabilities[0,:])"
   ]
  },
  {
   "cell_type": "code",
   "execution_count": 35,
   "metadata": {},
   "outputs": [
    {
     "name": "stdout",
     "output_type": "stream",
     "text": [
      "Most likely class: Industrial -- Probability: 1.0\n",
      "Second most likely class: seaLake -- Probability: 0.0\n",
      "Third most likely class: river -- Probability: 0.0\n",
      "Fourth most likely class: Residential -- Probability: 0.0\n",
      "Fifth most likely class: PermanentCrop -- Probability: 0.0\n",
      "sixth most likely class: Industrial -- Probability: 0.0\n",
      "seventh most likely class: seaLake -- Probability: 0.0\n",
      "eight most likely class: river -- Probability: 0.0\n",
      "nineth most likely class: Residential -- Probability: 0.0\n",
      "tenth most likely class: PermanentCrop -- Probability: 0.0\n"
     ]
    }
   ],
   "source": [
    "print(\"Most likely class:\", number_to_class[index[9]], \"-- Probability:\", probabilities[0,index[9]])\n",
    "print(\"Second most likely class:\", number_to_class[index[8]], \"-- Probability:\", probabilities[0,index[8]])\n",
    "print(\"Third most likely class:\", number_to_class[index[7]], \"-- Probability:\", probabilities[0,index[7]])\n",
    "print(\"Fourth most likely class:\", number_to_class[index[6]], \"-- Probability:\", probabilities[0,index[6]])\n",
    "print(\"Fifth most likely class:\", number_to_class[index[5]], \"-- Probability:\", probabilities[0,index[5]])\n",
    "print(\"sixth most likely class:\", number_to_class[index[9]], \"-- Probability:\", probabilities[0,index[4]])\n",
    "print(\"seventh most likely class:\", number_to_class[index[8]], \"-- Probability:\", probabilities[0,index[3]])\n",
    "print(\"eight most likely class:\", number_to_class[index[7]], \"-- Probability:\", probabilities[0,index[2]])\n",
    "print(\"nineth most likely class:\", number_to_class[index[6]], \"-- Probability:\", probabilities[0,index[1]])\n",
    "print(\"tenth most likely class:\", number_to_class[index[5]], \"-- Probability:\", probabilities[0,index[0]])"
   ]
  },
  {
   "cell_type": "code",
   "execution_count": 25,
   "metadata": {},
   "outputs": [
    {
     "data": {
      "text/plain": [
       "array([[0.00000000e+00, 0.00000000e+00, 0.00000000e+00, 7.92483687e-26,\n",
       "        1.00000000e+00, 0.00000000e+00, 4.23117161e-36, 0.00000000e+00,\n",
       "        8.26051013e-34, 1.50046975e-35],\n",
       "       [1.68201897e-08, 9.92738114e-10, 1.01622425e-01, 5.49199001e-04,\n",
       "        3.98225410e-07, 4.24567588e-06, 8.97823274e-01, 2.67768229e-07,\n",
       "        7.13268236e-08, 3.52467083e-11]], dtype=float32)"
      ]
     },
     "execution_count": 25,
     "metadata": {},
     "output_type": "execute_result"
    }
   ],
   "source": [
    "model.predict(x_test[0:2])"
   ]
  }
 ],
 "metadata": {
  "kernelspec": {
   "display_name": "Python 3",
   "language": "python",
   "name": "python3"
  },
  "language_info": {
   "codemirror_mode": {
    "name": "ipython",
    "version": 3
   },
   "file_extension": ".py",
   "mimetype": "text/x-python",
   "name": "python",
   "nbconvert_exporter": "python",
   "pygments_lexer": "ipython3",
   "version": "3.6.8"
  }
 },
 "nbformat": 4,
 "nbformat_minor": 2
}
