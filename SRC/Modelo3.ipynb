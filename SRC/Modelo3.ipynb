{
 "cells": [
  {
   "cell_type": "code",
   "execution_count": 12,
   "metadata": {},
   "outputs": [],
   "source": [
    "import os\n",
    "import numpy as np\n",
    "from PIL import Image\n",
    "from sklearn.model_selection import train_test_split\n",
    "from keras.utils import to_categorical\n",
    "from keras.models import Sequential\n",
    "from keras.layers import Dense, Conv2D, Deconvolution2D, MaxPooling2D, Flatten\n",
    "from keras import layers as L"
   ]
  },
  {
   "cell_type": "code",
   "execution_count": 13,
   "metadata": {},
   "outputs": [],
   "source": [
    "path = './Euro_Sat/'"
   ]
  },
  {
   "cell_type": "code",
   "execution_count": 14,
   "metadata": {},
   "outputs": [],
   "source": [
    "dic = {}\n",
    "entrada = []\n",
    "salida = []\n",
    "i = 0\n",
    "\n",
    "for ele in os.listdir(path):\n",
    "    if os.path.isdir(path+ele):\n",
    "        for file in os.listdir(path+ele):\n",
    "            im = Image.open(os.path.join(path,ele,file))\n",
    "            im_array = np.array(im)\n",
    "            entrada.append(im_array)\n",
    "            salida.append(i)\n",
    "        dic[i] = ele\n",
    "        i += 1"
   ]
  },
  {
   "cell_type": "code",
   "execution_count": 15,
   "metadata": {},
   "outputs": [],
   "source": [
    "clases_salida = to_categorical(salida)"
   ]
  },
  {
   "cell_type": "code",
   "execution_count": 16,
   "metadata": {},
   "outputs": [],
   "source": [
    "entrada = np.array(entrada)\n",
    "entrada = entrada/255"
   ]
  },
  {
   "cell_type": "code",
   "execution_count": 17,
   "metadata": {},
   "outputs": [],
   "source": [
    "x_train, x_test, y_train, y_test = train_test_split(entrada, clases_salida, test_size=0.21, shuffle=True)"
   ]
  },
  {
   "cell_type": "code",
   "execution_count": 18,
   "metadata": {},
   "outputs": [
    {
     "name": "stdout",
     "output_type": "stream",
     "text": [
      "Model: \"sequential_2\"\n",
      "_________________________________________________________________\n",
      "Layer (type)                 Output Shape              Param #   \n",
      "=================================================================\n",
      "conv2d_4 (Conv2D)            (None, 62, 62, 16)        448       \n",
      "_________________________________________________________________\n",
      "max_pooling2d_3 (MaxPooling2 (None, 31, 31, 16)        0         \n",
      "_________________________________________________________________\n",
      "conv2d_5 (Conv2D)            (None, 29, 29, 32)        4640      \n",
      "_________________________________________________________________\n",
      "max_pooling2d_4 (MaxPooling2 (None, 14, 14, 32)        0         \n",
      "_________________________________________________________________\n",
      "conv2d_6 (Conv2D)            (None, 12, 12, 64)        18496     \n",
      "_________________________________________________________________\n",
      "flatten_2 (Flatten)          (None, 9216)              0         \n",
      "_________________________________________________________________\n",
      "dense_3 (Dense)              (None, 49)                451633    \n",
      "_________________________________________________________________\n",
      "dense_4 (Dense)              (None, 10)                500       \n",
      "=================================================================\n",
      "Total params: 475,717\n",
      "Trainable params: 475,717\n",
      "Non-trainable params: 0\n",
      "_________________________________________________________________\n"
     ]
    }
   ],
   "source": [
    "in_shape = x_train[0,:,:,:].shape\n",
    "\n",
    "model = Sequential()\n",
    "\n",
    "model.add(Conv2D(16, kernel_size=3, activation='relu', input_shape=in_shape))\n",
    "model.add(MaxPooling2D(pool_size=(2,2)))\n",
    "model.add(Conv2D(32, kernel_size=3, activation='relu'))\n",
    "model.add(MaxPooling2D(pool_size=(2,2)))\n",
    "model.add(Conv2D(64, kernel_size=3, activation='relu'))\n",
    "model.add(Flatten())\n",
    "model.add(Dense(49))\n",
    "model.add(Dense(len(dic), activation='softmax'))\n",
    "model.summary()"
   ]
  },
  {
   "cell_type": "code",
   "execution_count": 19,
   "metadata": {},
   "outputs": [],
   "source": [
    "model.compile(optimizer='adam', loss='categorical_crossentropy', metrics=['accuracy'])"
   ]
  },
  {
   "cell_type": "code",
   "execution_count": 20,
   "metadata": {},
   "outputs": [
    {
     "name": "stdout",
     "output_type": "stream",
     "text": [
      "Train on 21330 samples, validate on 5670 samples\n",
      "Epoch 1/25\n",
      "21330/21330 [==============================] - 95s 4ms/step - loss: 1.1820 - accuracy: 0.5643 - val_loss: 0.8905 - val_accuracy: 0.7005\n",
      "Epoch 2/25\n",
      "21330/21330 [==============================] - 92s 4ms/step - loss: 0.7971 - accuracy: 0.7137 - val_loss: 0.7241 - val_accuracy: 0.7362\n",
      "Epoch 3/25\n",
      "21330/21330 [==============================] - 94s 4ms/step - loss: 0.6839 - accuracy: 0.7543 - val_loss: 0.6443 - val_accuracy: 0.7780\n",
      "Epoch 4/25\n",
      "21330/21330 [==============================] - 101s 5ms/step - loss: 0.5985 - accuracy: 0.7845 - val_loss: 0.5893 - val_accuracy: 0.7922\n",
      "Epoch 5/25\n",
      "21330/21330 [==============================] - 91s 4ms/step - loss: 0.5443 - accuracy: 0.8047 - val_loss: 0.5920 - val_accuracy: 0.7963\n",
      "Epoch 6/25\n",
      "21330/21330 [==============================] - 91s 4ms/step - loss: 0.4926 - accuracy: 0.8257 - val_loss: 0.5389 - val_accuracy: 0.8085\n",
      "Epoch 7/25\n",
      "21330/21330 [==============================] - 80s 4ms/step - loss: 0.4403 - accuracy: 0.8417 - val_loss: 0.8304 - val_accuracy: 0.7319\n",
      "Epoch 8/25\n",
      "21330/21330 [==============================] - 60s 3ms/step - loss: 0.3987 - accuracy: 0.8584 - val_loss: 0.5741 - val_accuracy: 0.8088\n",
      "Epoch 9/25\n",
      "21330/21330 [==============================] - 54s 3ms/step - loss: 0.3503 - accuracy: 0.8773 - val_loss: 0.5877 - val_accuracy: 0.8053\n",
      "Epoch 10/25\n",
      "21330/21330 [==============================] - 56s 3ms/step - loss: 0.3136 - accuracy: 0.8884 - val_loss: 0.7248 - val_accuracy: 0.7771\n",
      "Epoch 11/25\n",
      "21330/21330 [==============================] - 54s 3ms/step - loss: 0.2717 - accuracy: 0.9033 - val_loss: 0.5804 - val_accuracy: 0.8199\n",
      "Epoch 12/25\n",
      "21330/21330 [==============================] - 55s 3ms/step - loss: 0.2481 - accuracy: 0.9143 - val_loss: 0.6170 - val_accuracy: 0.8162\n",
      "Epoch 13/25\n",
      "21330/21330 [==============================] - 53s 2ms/step - loss: 0.2192 - accuracy: 0.9234 - val_loss: 0.7051 - val_accuracy: 0.8011\n",
      "Epoch 14/25\n",
      "21330/21330 [==============================] - 54s 3ms/step - loss: 0.1939 - accuracy: 0.9333 - val_loss: 0.6489 - val_accuracy: 0.8176\n",
      "Epoch 15/25\n",
      "21330/21330 [==============================] - 53s 2ms/step - loss: 0.1779 - accuracy: 0.9394 - val_loss: 0.7764 - val_accuracy: 0.7910\n",
      "Epoch 16/25\n",
      "21330/21330 [==============================] - 55s 3ms/step - loss: 0.1466 - accuracy: 0.9498 - val_loss: 0.7019 - val_accuracy: 0.8148\n",
      "Epoch 17/25\n",
      "21330/21330 [==============================] - 53s 2ms/step - loss: 0.1458 - accuracy: 0.9481 - val_loss: 0.9074 - val_accuracy: 0.7884\n",
      "Epoch 18/25\n",
      "21330/21330 [==============================] - 54s 3ms/step - loss: 0.1333 - accuracy: 0.9556 - val_loss: 0.8696 - val_accuracy: 0.8011\n",
      "Epoch 19/25\n",
      "21330/21330 [==============================] - 53s 2ms/step - loss: 0.1159 - accuracy: 0.9613 - val_loss: 1.1013 - val_accuracy: 0.7834\n",
      "Epoch 20/25\n",
      "21330/21330 [==============================] - 53s 3ms/step - loss: 0.1209 - accuracy: 0.9590 - val_loss: 1.0502 - val_accuracy: 0.7785\n",
      "Epoch 21/25\n",
      "21330/21330 [==============================] - 53s 2ms/step - loss: 0.0987 - accuracy: 0.9665 - val_loss: 1.0054 - val_accuracy: 0.8019\n",
      "Epoch 22/25\n",
      "21330/21330 [==============================] - 53s 2ms/step - loss: 0.0904 - accuracy: 0.9703 - val_loss: 1.0835 - val_accuracy: 0.7908\n",
      "Epoch 23/25\n",
      "21330/21330 [==============================] - 52s 2ms/step - loss: 0.1014 - accuracy: 0.9659 - val_loss: 1.0646 - val_accuracy: 0.7772\n",
      "Epoch 24/25\n",
      "21330/21330 [==============================] - 52s 2ms/step - loss: 0.0931 - accuracy: 0.9697 - val_loss: 1.0524 - val_accuracy: 0.8106\n",
      "Epoch 25/25\n",
      "21330/21330 [==============================] - 53s 2ms/step - loss: 0.0728 - accuracy: 0.9772 - val_loss: 1.4037 - val_accuracy: 0.7829\n"
     ]
    },
    {
     "data": {
      "text/plain": [
       "<keras.callbacks.callbacks.History at 0x27ba3d442b0>"
      ]
     },
     "execution_count": 20,
     "metadata": {},
     "output_type": "execute_result"
    }
   ],
   "source": [
    "model.fit(x_train, y_train, validation_data=(x_test, y_test), epochs=25)"
   ]
  },
  {
   "cell_type": "code",
   "execution_count": null,
   "metadata": {},
   "outputs": [],
   "source": []
  }
 ],
 "metadata": {
  "kernelspec": {
   "display_name": "Python 3",
   "language": "python",
   "name": "python3"
  },
  "language_info": {
   "codemirror_mode": {
    "name": "ipython",
    "version": 3
   },
   "file_extension": ".py",
   "mimetype": "text/x-python",
   "name": "python",
   "nbconvert_exporter": "python",
   "pygments_lexer": "ipython3",
   "version": "3.6.8"
  }
 },
 "nbformat": 4,
 "nbformat_minor": 2
}
